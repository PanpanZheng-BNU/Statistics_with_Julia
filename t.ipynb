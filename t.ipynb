{
 "cells": [
  {
   "cell_type": "code",
   "execution_count": 1,
   "metadata": {},
   "outputs": [],
   "source": [
    "import math\n",
    "import numpy as np\n",
    "import matplotlib.pyplot as plt\n",
    "def prn(l):\n",
    "    k, p = 0, 1\n",
    "    while p > math.e**(-l):\n",
    "        k += 1\n",
    "        p *= np.random.rand()\n",
    "    return k\n",
    "\n",
    "N=10**6\n",
    "\n",
    "allArray = np.array([])\n",
    "for i in range(N):\n",
    "    allArray = np.append(allArray, prn(5.5))\n",
    "\n",
    "unique, counts = np.unique(allArray, return_counts=True)\n",
    "print(dict(zip(unique, counts)))"
   ]
  }
 ],
 "metadata": {
  "interpreter": {
   "hash": "63ebcd7f6d11786aa55810da33e2a1cfe03a4682efc8469793c296fefe8f2fea"
  },
  "kernelspec": {
   "display_name": "Python 3.8.8 64-bit ('base': conda)",
   "language": "python",
   "name": "python3"
  },
  "language_info": {
   "codemirror_mode": {
    "name": "ipython",
    "version": 3
   },
   "file_extension": ".py",
   "mimetype": "text/x-python",
   "name": "python",
   "nbconvert_exporter": "python",
   "pygments_lexer": "ipython3",
   "version": "3.8.8"
  },
  "orig_nbformat": 4
 },
 "nbformat": 4,
 "nbformat_minor": 2
}
