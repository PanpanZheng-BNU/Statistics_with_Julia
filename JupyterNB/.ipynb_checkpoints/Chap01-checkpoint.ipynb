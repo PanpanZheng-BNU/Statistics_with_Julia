{
 "cells": [
  {
   "cell_type": "code",
   "execution_count": 1,
   "metadata": {},
   "outputs": [
    {
     "data": {
      "image/svg+xml": "<?xml version=\"1.0\" encoding=\"utf-8\"?>\n<svg xmlns=\"http://www.w3.org/2000/svg\" xmlns:xlink=\"http://www.w3.org/1999/xlink\" width=\"600\" height=\"400\" viewBox=\"0 0 2400 1600\">\n<defs>\n  <clipPath id=\"clip350\">\n    <rect x=\"0\" y=\"0\" width=\"2400\" height=\"1600\"/>\n  </clipPath>\n</defs>\n<path clip-path=\"url(#clip350)\" d=\"\nM0 1600 L2400 1600 L2400 0 L0 0  Z\n  \" fill=\"#ffffff\" fill-rule=\"evenodd\" fill-opacity=\"1\"/>\n<defs>\n  <clipPath id=\"clip351\">\n    <rect x=\"480\" y=\"0\" width=\"1681\" height=\"1600\"/>\n  </clipPath>\n</defs>\n<path clip-path=\"url(#clip350)\" d=\"\nM184.191 1486.45 L2352.76 1486.45 L2352.76 47.2441 L184.191 47.2441  Z\n  \" fill=\"#ffffff\" fill-rule=\"evenodd\" fill-opacity=\"1\"/>\n<defs>\n  <clipPath id=\"clip352\">\n    <rect x=\"184\" y=\"47\" width=\"2170\" height=\"1440\"/>\n  </clipPath>\n</defs>\n<polyline clip-path=\"url(#clip352)\" style=\"stroke:#000000; stroke-linecap:butt; stroke-linejoin:round; stroke-width:2; stroke-opacity:0.1; fill:none\" points=\"\n  472.878,1486.45 472.878,47.2441 \n  \"/>\n<polyline clip-path=\"url(#clip352)\" style=\"stroke:#000000; stroke-linecap:butt; stroke-linejoin:round; stroke-width:2; stroke-opacity:0.1; fill:none\" points=\"\n  927.504,1486.45 927.504,47.2441 \n  \"/>\n<polyline clip-path=\"url(#clip352)\" style=\"stroke:#000000; stroke-linecap:butt; stroke-linejoin:round; stroke-width:2; stroke-opacity:0.1; fill:none\" points=\"\n  1382.13,1486.45 1382.13,47.2441 \n  \"/>\n<polyline clip-path=\"url(#clip352)\" style=\"stroke:#000000; stroke-linecap:butt; stroke-linejoin:round; stroke-width:2; stroke-opacity:0.1; fill:none\" points=\"\n  1836.76,1486.45 1836.76,47.2441 \n  \"/>\n<polyline clip-path=\"url(#clip352)\" style=\"stroke:#000000; stroke-linecap:butt; stroke-linejoin:round; stroke-width:2; stroke-opacity:0.1; fill:none\" points=\"\n  2291.38,1486.45 2291.38,47.2441 \n  \"/>\n<polyline clip-path=\"url(#clip350)\" style=\"stroke:#000000; stroke-linecap:butt; stroke-linejoin:round; stroke-width:4; stroke-opacity:1; fill:none\" points=\"\n  184.191,1486.45 2352.76,1486.45 \n  \"/>\n<polyline clip-path=\"url(#clip350)\" style=\"stroke:#000000; stroke-linecap:butt; stroke-linejoin:round; stroke-width:4; stroke-opacity:1; fill:none\" points=\"\n  472.878,1486.45 472.878,1467.55 \n  \"/>\n<polyline clip-path=\"url(#clip350)\" style=\"stroke:#000000; stroke-linecap:butt; stroke-linejoin:round; stroke-width:4; stroke-opacity:1; fill:none\" points=\"\n  927.504,1486.45 927.504,1467.55 \n  \"/>\n<polyline clip-path=\"url(#clip350)\" style=\"stroke:#000000; stroke-linecap:butt; stroke-linejoin:round; stroke-width:4; stroke-opacity:1; fill:none\" points=\"\n  1382.13,1486.45 1382.13,1467.55 \n  \"/>\n<polyline clip-path=\"url(#clip350)\" style=\"stroke:#000000; stroke-linecap:butt; stroke-linejoin:round; stroke-width:4; stroke-opacity:1; fill:none\" points=\"\n  1836.76,1486.45 1836.76,1467.55 \n  \"/>\n<polyline clip-path=\"url(#clip350)\" style=\"stroke:#000000; stroke-linecap:butt; stroke-linejoin:round; stroke-width:4; stroke-opacity:1; fill:none\" points=\"\n  2291.38,1486.45 2291.38,1467.55 \n  \"/>\n<path clip-path=\"url(#clip350)\" d=\"M467.531 1544.91 L483.85 1544.91 L483.85 1548.85 L461.906 1548.85 L461.906 1544.91 Q464.568 1542.16 469.151 1537.53 Q473.758 1532.88 474.938 1531.53 Q477.184 1529.01 478.063 1527.27 Q478.966 1525.51 478.966 1523.82 Q478.966 1521.07 477.022 1519.33 Q475.1 1517.6 471.998 1517.6 Q469.799 1517.6 467.346 1518.36 Q464.915 1519.13 462.137 1520.68 L462.137 1515.95 Q464.961 1514.82 467.415 1514.24 Q469.869 1513.66 471.906 1513.66 Q477.276 1513.66 480.471 1516.35 Q483.665 1519.03 483.665 1523.52 Q483.665 1525.65 482.855 1527.57 Q482.068 1529.47 479.961 1532.07 Q479.383 1532.74 476.281 1535.95 Q473.179 1539.15 467.531 1544.91 Z\" fill=\"#000000\" fill-rule=\"evenodd\" fill-opacity=\"1\" /><path clip-path=\"url(#clip350)\" d=\"M930.513 1518.36 L918.708 1536.81 L930.513 1536.81 L930.513 1518.36 M929.286 1514.29 L935.166 1514.29 L935.166 1536.81 L940.096 1536.81 L940.096 1540.7 L935.166 1540.7 L935.166 1548.85 L930.513 1548.85 L930.513 1540.7 L914.911 1540.7 L914.911 1536.19 L929.286 1514.29 Z\" fill=\"#000000\" fill-rule=\"evenodd\" fill-opacity=\"1\" /><path clip-path=\"url(#clip350)\" d=\"M1382.53 1529.7 Q1379.39 1529.7 1377.53 1531.86 Q1375.71 1534.01 1375.71 1537.76 Q1375.71 1541.49 1377.53 1543.66 Q1379.39 1545.82 1382.53 1545.82 Q1385.68 1545.82 1387.51 1543.66 Q1389.36 1541.49 1389.36 1537.76 Q1389.36 1534.01 1387.51 1531.86 Q1385.68 1529.7 1382.53 1529.7 M1391.82 1515.05 L1391.82 1519.31 Q1390.06 1518.48 1388.25 1518.04 Q1386.47 1517.6 1384.71 1517.6 Q1380.08 1517.6 1377.63 1520.72 Q1375.2 1523.85 1374.85 1530.17 Q1376.22 1528.15 1378.28 1527.09 Q1380.34 1526 1382.81 1526 Q1388.02 1526 1391.03 1529.17 Q1394.06 1532.32 1394.06 1537.76 Q1394.06 1543.08 1390.91 1546.3 Q1387.77 1549.52 1382.53 1549.52 Q1376.54 1549.52 1373.37 1544.94 Q1370.2 1540.33 1370.2 1531.6 Q1370.2 1523.41 1374.09 1518.55 Q1377.97 1513.66 1384.53 1513.66 Q1386.28 1513.66 1388.07 1514.01 Q1389.87 1514.36 1391.82 1515.05 Z\" fill=\"#000000\" fill-rule=\"evenodd\" fill-opacity=\"1\" /><path clip-path=\"url(#clip350)\" d=\"M1836.76 1532.44 Q1833.42 1532.44 1831.5 1534.22 Q1829.6 1536 1829.6 1539.13 Q1829.6 1542.25 1831.5 1544.03 Q1833.42 1545.82 1836.76 1545.82 Q1840.09 1545.82 1842.01 1544.03 Q1843.93 1542.23 1843.93 1539.13 Q1843.93 1536 1842.01 1534.22 Q1840.11 1532.44 1836.76 1532.44 M1832.08 1530.45 Q1829.07 1529.7 1827.38 1527.64 Q1825.71 1525.58 1825.71 1522.62 Q1825.71 1518.48 1828.65 1516.07 Q1831.62 1513.66 1836.76 1513.66 Q1841.92 1513.66 1844.86 1516.07 Q1847.8 1518.48 1847.8 1522.62 Q1847.8 1525.58 1846.11 1527.64 Q1844.44 1529.7 1841.45 1530.45 Q1844.83 1531.23 1846.71 1533.52 Q1848.61 1535.82 1848.61 1539.13 Q1848.61 1544.15 1845.53 1546.83 Q1842.47 1549.52 1836.76 1549.52 Q1831.04 1549.52 1827.96 1546.83 Q1824.9 1544.15 1824.9 1539.13 Q1824.9 1535.82 1826.8 1533.52 Q1828.7 1531.23 1832.08 1530.45 M1830.37 1523.06 Q1830.37 1525.75 1832.03 1527.25 Q1833.72 1528.76 1836.76 1528.76 Q1839.76 1528.76 1841.45 1527.25 Q1843.17 1525.75 1843.17 1523.06 Q1843.17 1520.38 1841.45 1518.87 Q1839.76 1517.37 1836.76 1517.37 Q1833.72 1517.37 1832.03 1518.87 Q1830.37 1520.38 1830.37 1523.06 Z\" fill=\"#000000\" fill-rule=\"evenodd\" fill-opacity=\"1\" /><path clip-path=\"url(#clip350)\" d=\"M2266.07 1544.91 L2273.71 1544.91 L2273.71 1518.55 L2265.4 1520.21 L2265.4 1515.95 L2273.66 1514.29 L2278.34 1514.29 L2278.34 1544.91 L2285.98 1544.91 L2285.98 1548.85 L2266.07 1548.85 L2266.07 1544.91 Z\" fill=\"#000000\" fill-rule=\"evenodd\" fill-opacity=\"1\" /><path clip-path=\"url(#clip350)\" d=\"M2305.42 1517.37 Q2301.81 1517.37 2299.98 1520.93 Q2298.18 1524.47 2298.18 1531.6 Q2298.18 1538.71 2299.98 1542.27 Q2301.81 1545.82 2305.42 1545.82 Q2309.05 1545.82 2310.86 1542.27 Q2312.69 1538.71 2312.69 1531.6 Q2312.69 1524.47 2310.86 1520.93 Q2309.05 1517.37 2305.42 1517.37 M2305.42 1513.66 Q2311.23 1513.66 2314.29 1518.27 Q2317.37 1522.85 2317.37 1531.6 Q2317.37 1540.33 2314.29 1544.94 Q2311.23 1549.52 2305.42 1549.52 Q2299.61 1549.52 2296.53 1544.94 Q2293.48 1540.33 2293.48 1531.6 Q2293.48 1522.85 2296.53 1518.27 Q2299.61 1513.66 2305.42 1513.66 Z\" fill=\"#000000\" fill-rule=\"evenodd\" fill-opacity=\"1\" /><polyline clip-path=\"url(#clip352)\" style=\"stroke:#000000; stroke-linecap:butt; stroke-linejoin:round; stroke-width:2; stroke-opacity:0.1; fill:none\" points=\"\n  184.191,1467.17 2352.76,1467.17 \n  \"/>\n<polyline clip-path=\"url(#clip352)\" style=\"stroke:#000000; stroke-linecap:butt; stroke-linejoin:round; stroke-width:2; stroke-opacity:0.1; fill:none\" points=\"\n  184.191,1122.01 2352.76,1122.01 \n  \"/>\n<polyline clip-path=\"url(#clip352)\" style=\"stroke:#000000; stroke-linecap:butt; stroke-linejoin:round; stroke-width:2; stroke-opacity:0.1; fill:none\" points=\"\n  184.191,776.857 2352.76,776.857 \n  \"/>\n<polyline clip-path=\"url(#clip352)\" style=\"stroke:#000000; stroke-linecap:butt; stroke-linejoin:round; stroke-width:2; stroke-opacity:0.1; fill:none\" points=\"\n  184.191,431.699 2352.76,431.699 \n  \"/>\n<polyline clip-path=\"url(#clip352)\" style=\"stroke:#000000; stroke-linecap:butt; stroke-linejoin:round; stroke-width:2; stroke-opacity:0.1; fill:none\" points=\"\n  184.191,86.5417 2352.76,86.5417 \n  \"/>\n<polyline clip-path=\"url(#clip350)\" style=\"stroke:#000000; stroke-linecap:butt; stroke-linejoin:round; stroke-width:4; stroke-opacity:1; fill:none\" points=\"\n  184.191,1486.45 184.191,47.2441 \n  \"/>\n<polyline clip-path=\"url(#clip350)\" style=\"stroke:#000000; stroke-linecap:butt; stroke-linejoin:round; stroke-width:4; stroke-opacity:1; fill:none\" points=\"\n  184.191,1467.17 203.088,1467.17 \n  \"/>\n<polyline clip-path=\"url(#clip350)\" style=\"stroke:#000000; stroke-linecap:butt; stroke-linejoin:round; stroke-width:4; stroke-opacity:1; fill:none\" points=\"\n  184.191,1122.01 203.088,1122.01 \n  \"/>\n<polyline clip-path=\"url(#clip350)\" style=\"stroke:#000000; stroke-linecap:butt; stroke-linejoin:round; stroke-width:4; stroke-opacity:1; fill:none\" points=\"\n  184.191,776.857 203.088,776.857 \n  \"/>\n<polyline clip-path=\"url(#clip350)\" style=\"stroke:#000000; stroke-linecap:butt; stroke-linejoin:round; stroke-width:4; stroke-opacity:1; fill:none\" points=\"\n  184.191,431.699 203.088,431.699 \n  \"/>\n<polyline clip-path=\"url(#clip350)\" style=\"stroke:#000000; stroke-linecap:butt; stroke-linejoin:round; stroke-width:4; stroke-opacity:1; fill:none\" points=\"\n  184.191,86.5417 203.088,86.5417 \n  \"/>\n<path clip-path=\"url(#clip350)\" d=\"M91.0151 1452.97 Q87.404 1452.97 85.5753 1456.54 Q83.7697 1460.08 83.7697 1467.21 Q83.7697 1474.31 85.5753 1477.88 Q87.404 1481.42 91.0151 1481.42 Q94.6493 1481.42 96.4548 1477.88 Q98.2835 1474.31 98.2835 1467.21 Q98.2835 1460.08 96.4548 1456.54 Q94.6493 1452.97 91.0151 1452.97 M91.0151 1449.27 Q96.8252 1449.27 99.8808 1453.87 Q102.959 1458.46 102.959 1467.21 Q102.959 1475.93 99.8808 1480.54 Q96.8252 1485.12 91.0151 1485.12 Q85.2049 1485.12 82.1262 1480.54 Q79.0707 1475.93 79.0707 1467.21 Q79.0707 1458.46 82.1262 1453.87 Q85.2049 1449.27 91.0151 1449.27 Z\" fill=\"#000000\" fill-rule=\"evenodd\" fill-opacity=\"1\" /><path clip-path=\"url(#clip350)\" d=\"M111.177 1478.57 L116.061 1478.57 L116.061 1484.45 L111.177 1484.45 L111.177 1478.57 Z\" fill=\"#000000\" fill-rule=\"evenodd\" fill-opacity=\"1\" /><path clip-path=\"url(#clip350)\" d=\"M136.246 1452.97 Q132.635 1452.97 130.807 1456.54 Q129.001 1460.08 129.001 1467.21 Q129.001 1474.31 130.807 1477.88 Q132.635 1481.42 136.246 1481.42 Q139.881 1481.42 141.686 1477.88 Q143.515 1474.31 143.515 1467.21 Q143.515 1460.08 141.686 1456.54 Q139.881 1452.97 136.246 1452.97 M136.246 1449.27 Q142.056 1449.27 145.112 1453.87 Q148.191 1458.46 148.191 1467.21 Q148.191 1475.93 145.112 1480.54 Q142.056 1485.12 136.246 1485.12 Q130.436 1485.12 127.357 1480.54 Q124.302 1475.93 124.302 1467.21 Q124.302 1458.46 127.357 1453.87 Q130.436 1449.27 136.246 1449.27 Z\" fill=\"#000000\" fill-rule=\"evenodd\" fill-opacity=\"1\" /><path clip-path=\"url(#clip350)\" d=\"M86.0382 1135.36 L102.358 1135.36 L102.358 1139.29 L80.4133 1139.29 L80.4133 1135.36 Q83.0753 1132.6 87.6586 1127.98 Q92.2651 1123.32 93.4456 1121.98 Q95.691 1119.46 96.5706 1117.72 Q97.4734 1115.96 97.4734 1114.27 Q97.4734 1111.52 95.5289 1109.78 Q93.6076 1108.04 90.5058 1108.04 Q88.3067 1108.04 85.8531 1108.81 Q83.4225 1109.57 80.6447 1111.12 L80.6447 1106.4 Q83.4688 1105.27 85.9225 1104.69 Q88.3762 1104.11 90.4132 1104.11 Q95.7836 1104.11 98.978 1106.79 Q102.172 1109.48 102.172 1113.97 Q102.172 1116.1 101.362 1118.02 Q100.575 1119.92 98.4687 1122.51 Q97.89 1123.18 94.7882 1126.4 Q91.6864 1129.6 86.0382 1135.36 Z\" fill=\"#000000\" fill-rule=\"evenodd\" fill-opacity=\"1\" /><path clip-path=\"url(#clip350)\" d=\"M112.172 1133.42 L117.057 1133.42 L117.057 1139.29 L112.172 1139.29 L112.172 1133.42 Z\" fill=\"#000000\" fill-rule=\"evenodd\" fill-opacity=\"1\" /><path clip-path=\"url(#clip350)\" d=\"M127.288 1104.73 L145.644 1104.73 L145.644 1108.67 L131.57 1108.67 L131.57 1117.14 Q132.589 1116.79 133.607 1116.63 Q134.626 1116.45 135.644 1116.45 Q141.431 1116.45 144.811 1119.62 Q148.191 1122.79 148.191 1128.21 Q148.191 1133.79 144.718 1136.89 Q141.246 1139.97 134.927 1139.97 Q132.751 1139.97 130.482 1139.6 Q128.237 1139.23 125.83 1138.48 L125.83 1133.79 Q127.913 1134.92 130.135 1135.48 Q132.357 1136.03 134.834 1136.03 Q138.839 1136.03 141.177 1133.92 Q143.515 1131.82 143.515 1128.21 Q143.515 1124.6 141.177 1122.49 Q138.839 1120.38 134.834 1120.38 Q132.959 1120.38 131.084 1120.8 Q129.232 1121.22 127.288 1122.1 L127.288 1104.73 Z\" fill=\"#000000\" fill-rule=\"evenodd\" fill-opacity=\"1\" /><path clip-path=\"url(#clip350)\" d=\"M81.0614 759.577 L99.4178 759.577 L99.4178 763.512 L85.3438 763.512 L85.3438 771.984 Q86.3623 771.637 87.3808 771.475 Q88.3993 771.29 89.4178 771.29 Q95.2049 771.29 98.5845 774.461 Q101.964 777.632 101.964 783.049 Q101.964 788.628 98.4919 791.73 Q95.0197 794.808 88.7003 794.808 Q86.5243 794.808 84.2558 794.438 Q82.0105 794.068 79.6031 793.327 L79.6031 788.628 Q81.6864 789.762 83.9086 790.318 Q86.1308 790.873 88.6077 790.873 Q92.6123 790.873 94.9502 788.767 Q97.2882 786.66 97.2882 783.049 Q97.2882 779.438 94.9502 777.332 Q92.6123 775.225 88.6077 775.225 Q86.7327 775.225 84.8577 775.642 Q83.0058 776.058 81.0614 776.938 L81.0614 759.577 Z\" fill=\"#000000\" fill-rule=\"evenodd\" fill-opacity=\"1\" /><path clip-path=\"url(#clip350)\" d=\"M111.177 788.257 L116.061 788.257 L116.061 794.137 L111.177 794.137 L111.177 788.257 Z\" fill=\"#000000\" fill-rule=\"evenodd\" fill-opacity=\"1\" /><path clip-path=\"url(#clip350)\" d=\"M136.246 762.656 Q132.635 762.656 130.807 766.22 Q129.001 769.762 129.001 776.892 Q129.001 783.998 130.807 787.563 Q132.635 791.105 136.246 791.105 Q139.881 791.105 141.686 787.563 Q143.515 783.998 143.515 776.892 Q143.515 769.762 141.686 766.22 Q139.881 762.656 136.246 762.656 M136.246 758.952 Q142.056 758.952 145.112 763.558 Q148.191 768.142 148.191 776.892 Q148.191 785.619 145.112 790.225 Q142.056 794.808 136.246 794.808 Q130.436 794.808 127.357 790.225 Q124.302 785.619 124.302 776.892 Q124.302 768.142 127.357 763.558 Q130.436 758.952 136.246 758.952 Z\" fill=\"#000000\" fill-rule=\"evenodd\" fill-opacity=\"1\" /><path clip-path=\"url(#clip350)\" d=\"M80.8299 414.419 L103.052 414.419 L103.052 416.41 L90.5058 448.979 L85.6216 448.979 L97.4271 418.355 L80.8299 418.355 L80.8299 414.419 Z\" fill=\"#000000\" fill-rule=\"evenodd\" fill-opacity=\"1\" /><path clip-path=\"url(#clip350)\" d=\"M112.172 443.1 L117.057 443.1 L117.057 448.979 L112.172 448.979 L112.172 443.1 Z\" fill=\"#000000\" fill-rule=\"evenodd\" fill-opacity=\"1\" /><path clip-path=\"url(#clip350)\" d=\"M127.288 414.419 L145.644 414.419 L145.644 418.355 L131.57 418.355 L131.57 426.827 Q132.589 426.479 133.607 426.317 Q134.626 426.132 135.644 426.132 Q141.431 426.132 144.811 429.304 Q148.191 432.475 148.191 437.891 Q148.191 443.47 144.718 446.572 Q141.246 449.651 134.927 449.651 Q132.751 449.651 130.482 449.28 Q128.237 448.91 125.83 448.169 L125.83 443.47 Q127.913 444.604 130.135 445.16 Q132.357 445.715 134.834 445.715 Q138.839 445.715 141.177 443.609 Q143.515 441.503 143.515 437.891 Q143.515 434.28 141.177 432.174 Q138.839 430.067 134.834 430.067 Q132.959 430.067 131.084 430.484 Q129.232 430.901 127.288 431.78 L127.288 414.419 Z\" fill=\"#000000\" fill-rule=\"evenodd\" fill-opacity=\"1\" /><path clip-path=\"url(#clip350)\" d=\"M51.6634 99.8865 L59.3023 99.8865 L59.3023 73.5209 L50.9921 75.1876 L50.9921 70.9284 L59.256 69.2617 L63.9319 69.2617 L63.9319 99.8865 L71.5707 99.8865 L71.5707 103.822 L51.6634 103.822 L51.6634 99.8865 Z\" fill=\"#000000\" fill-rule=\"evenodd\" fill-opacity=\"1\" /><path clip-path=\"url(#clip350)\" d=\"M91.0151 72.3404 Q87.404 72.3404 85.5753 75.9052 Q83.7697 79.4468 83.7697 86.5764 Q83.7697 93.6829 85.5753 97.2477 Q87.404 100.789 91.0151 100.789 Q94.6493 100.789 96.4548 97.2477 Q98.2835 93.6829 98.2835 86.5764 Q98.2835 79.4468 96.4548 75.9052 Q94.6493 72.3404 91.0151 72.3404 M91.0151 68.6367 Q96.8252 68.6367 99.8808 73.2432 Q102.959 77.8265 102.959 86.5764 Q102.959 95.3032 99.8808 99.9097 Q96.8252 104.493 91.0151 104.493 Q85.2049 104.493 82.1262 99.9097 Q79.0707 95.3032 79.0707 86.5764 Q79.0707 77.8265 82.1262 73.2432 Q85.2049 68.6367 91.0151 68.6367 Z\" fill=\"#000000\" fill-rule=\"evenodd\" fill-opacity=\"1\" /><path clip-path=\"url(#clip350)\" d=\"M111.177 97.9421 L116.061 97.9421 L116.061 103.822 L111.177 103.822 L111.177 97.9421 Z\" fill=\"#000000\" fill-rule=\"evenodd\" fill-opacity=\"1\" /><path clip-path=\"url(#clip350)\" d=\"M136.246 72.3404 Q132.635 72.3404 130.807 75.9052 Q129.001 79.4468 129.001 86.5764 Q129.001 93.6829 130.807 97.2477 Q132.635 100.789 136.246 100.789 Q139.881 100.789 141.686 97.2477 Q143.515 93.6829 143.515 86.5764 Q143.515 79.4468 141.686 75.9052 Q139.881 72.3404 136.246 72.3404 M136.246 68.6367 Q142.056 68.6367 145.112 73.2432 Q148.191 77.8265 148.191 86.5764 Q148.191 95.3032 145.112 99.9097 Q142.056 104.493 136.246 104.493 Q130.436 104.493 127.357 99.9097 Q124.302 95.3032 124.302 86.5764 Q124.302 77.8265 127.357 73.2432 Q130.436 68.6367 136.246 68.6367 Z\" fill=\"#000000\" fill-rule=\"evenodd\" fill-opacity=\"1\" /><circle clip-path=\"url(#clip352)\" cx=\"245.565\" cy=\"1445.72\" r=\"14\" fill=\"#009af9\" fill-rule=\"evenodd\" fill-opacity=\"1\" stroke=\"#000000\" stroke-opacity=\"1\" stroke-width=\"3.2\"/>\n<circle clip-path=\"url(#clip352)\" cx=\"472.878\" cy=\"1256.55\" r=\"14\" fill=\"#009af9\" fill-rule=\"evenodd\" fill-opacity=\"1\" stroke=\"#000000\" stroke-opacity=\"1\" stroke-width=\"3.2\"/>\n<circle clip-path=\"url(#clip352)\" cx=\"700.191\" cy=\"1156.31\" r=\"14\" fill=\"#009af9\" fill-rule=\"evenodd\" fill-opacity=\"1\" stroke=\"#000000\" stroke-opacity=\"1\" stroke-width=\"3.2\"/>\n<circle clip-path=\"url(#clip352)\" cx=\"927.504\" cy=\"937.136\" r=\"14\" fill=\"#009af9\" fill-rule=\"evenodd\" fill-opacity=\"1\" stroke=\"#000000\" stroke-opacity=\"1\" stroke-width=\"3.2\"/>\n<circle clip-path=\"url(#clip352)\" cx=\"1154.82\" cy=\"886.467\" r=\"14\" fill=\"#009af9\" fill-rule=\"evenodd\" fill-opacity=\"1\" stroke=\"#000000\" stroke-opacity=\"1\" stroke-width=\"3.2\"/>\n<circle clip-path=\"url(#clip352)\" cx=\"1382.13\" cy=\"572.177\" r=\"14\" fill=\"#009af9\" fill-rule=\"evenodd\" fill-opacity=\"1\" stroke=\"#000000\" stroke-opacity=\"1\" stroke-width=\"3.2\"/>\n<circle clip-path=\"url(#clip352)\" cx=\"1609.44\" cy=\"788.071\" r=\"14\" fill=\"#009af9\" fill-rule=\"evenodd\" fill-opacity=\"1\" stroke=\"#000000\" stroke-opacity=\"1\" stroke-width=\"3.2\"/>\n<circle clip-path=\"url(#clip352)\" cx=\"1836.76\" cy=\"480.995\" r=\"14\" fill=\"#009af9\" fill-rule=\"evenodd\" fill-opacity=\"1\" stroke=\"#000000\" stroke-opacity=\"1\" stroke-width=\"3.2\"/>\n<circle clip-path=\"url(#clip352)\" cx=\"2064.07\" cy=\"268.136\" r=\"14\" fill=\"#009af9\" fill-rule=\"evenodd\" fill-opacity=\"1\" stroke=\"#000000\" stroke-opacity=\"1\" stroke-width=\"3.2\"/>\n<circle clip-path=\"url(#clip352)\" cx=\"2291.38\" cy=\"87.9763\" r=\"14\" fill=\"#009af9\" fill-rule=\"evenodd\" fill-opacity=\"1\" stroke=\"#000000\" stroke-opacity=\"1\" stroke-width=\"3.2\"/>\n<path clip-path=\"url(#clip350)\" d=\"\nM1987.09 198.898 L2280.47 198.898 L2280.47 95.2176 L1987.09 95.2176  Z\n  \" fill=\"#ffffff\" fill-rule=\"evenodd\" fill-opacity=\"1\"/>\n<polyline clip-path=\"url(#clip350)\" style=\"stroke:#000000; stroke-linecap:butt; stroke-linejoin:round; stroke-width:4; stroke-opacity:1; fill:none\" points=\"\n  1987.09,198.898 2280.47,198.898 2280.47,95.2176 1987.09,95.2176 1987.09,198.898 \n  \"/>\n<circle clip-path=\"url(#clip350)\" cx=\"2083.47\" cy=\"147.058\" r=\"23\" fill=\"#009af9\" fill-rule=\"evenodd\" fill-opacity=\"1\" stroke=\"#000000\" stroke-opacity=\"1\" stroke-width=\"5.12\"/>\n<path clip-path=\"url(#clip350)\" d=\"M2193.69 166.745 Q2191.89 171.375 2190.17 172.787 Q2188.46 174.199 2185.59 174.199 L2182.19 174.199 L2182.19 170.634 L2184.69 170.634 Q2186.45 170.634 2187.42 169.8 Q2188.39 168.967 2189.57 165.865 L2190.34 163.921 L2179.85 138.412 L2184.36 138.412 L2192.47 158.689 L2200.57 138.412 L2205.08 138.412 L2193.69 166.745 Z\" fill=\"#000000\" fill-rule=\"evenodd\" fill-opacity=\"1\" /><path clip-path=\"url(#clip350)\" d=\"M2212.37 160.402 L2220.01 160.402 L2220.01 134.037 L2211.7 135.703 L2211.7 131.444 L2219.97 129.778 L2224.64 129.778 L2224.64 160.402 L2232.28 160.402 L2232.28 164.338 L2212.37 164.338 L2212.37 160.402 Z\" fill=\"#000000\" fill-rule=\"evenodd\" fill-opacity=\"1\" /></svg>\n"
     },
     "execution_count": 1,
     "metadata": {},
     "output_type": "execute_result"
    }
   ],
   "source": [
    "using Plots\n",
    "\n",
    "x = collect(1:10)\n",
    "y = [xx+randn() for xx in x]\n",
    "\n",
    "plot(x,y,seriestype=:scatter)"
   ]
  },
  {
   "cell_type": "code",
   "execution_count": 2,
   "metadata": {},
   "outputs": [
    {
     "name": "stdout",
     "output_type": "stream",
     "text": [
      "98% of the means lie in the estimamted range:0.4699716152277810.5299728712268427\n",
      "  9.722161 seconds (10.29 M allocations: 7.991 GiB, 10.01% gc time, 1.61% compilation time)\n"
     ]
    }
   ],
   "source": [
    "using Statistics\n",
    "\n",
    "@time begin\n",
    "    data = Float64[];\n",
    "    for _ in 1:10^6\n",
    "        group = Float64[];\n",
    "        for _ in 1:5*10^2\n",
    "            push!(group, rand())\n",
    "        end\n",
    "        push!(data, mean(group))\n",
    "    end\n",
    "    println(\"98% of the means lie in the estimamted range:\",\n",
    "        (quantile(data,0.01)), (quantile(data,0.99))\n",
    "    )\n",
    "end"
   ]
  },
  {
   "cell_type": "code",
   "execution_count": 3,
   "metadata": {},
   "outputs": [
    {
     "name": "stdout",
     "output_type": "stream",
     "text": [
      "98% of the means lie in the estimamted range:0.47005257134693770.5300267665518541\n",
      "  1.071194 seconds (1.13 M allocations: 3.904 GiB, 12.51% gc time, 11.71% compilation time)\n"
     ]
    }
   ],
   "source": [
    "using Statistics\n",
    "\n",
    "@time begin\n",
    "    data = [mean(rand(5*10^2)) for _ in 1:10^6]\n",
    "    println(\"98% of the means lie in the estimamted range:\",\n",
    "        (quantile(data,0.01)), (quantile(data,0.99))\n",
    "    )\n",
    "end"
   ]
  },
  {
   "cell_type": "code",
   "execution_count": 4,
   "metadata": {},
   "outputs": [
    {
     "name": "stdout",
     "output_type": "stream",
     "text": [
      "1 2 3 \n",
      "Sum of data in extrnal scope: 12\n",
      "Sum of data in a function: -3\n",
      "s = 12\n"
     ]
    },
    {
     "data": {
      "text/plain": [
       "12"
      ]
     },
     "execution_count": 4,
     "metadata": {},
     "output_type": "execute_result"
    }
   ],
   "source": [
    "data = [1,2,3]\n",
    "s = 0\n",
    "β,γ = 2,1\n",
    "\n",
    "for i in 1:length(data)\n",
    "    print(i,\" \")\n",
    "    global s\n",
    "\n",
    "\n",
    "    s += β*data[i]\n",
    "    data[i] *= -1\n",
    "end\n",
    "\n",
    "println(\"\\nSum of data in extrnal scope: \", s)\n",
    "\n",
    "function sumData(β)\n",
    "    s = 0\n",
    "    for i in 1:length(data)\n",
    "        s += data[i] + γ\n",
    "    end\n",
    "    return s\n",
    "end\n",
    "println(\"Sum of data in a function: \", sumData(β/2))\n",
    "@show s"
   ]
  },
  {
   "cell_type": "markdown",
   "metadata": {},
   "source": [
    "# Bubble Sort"
   ]
  },
  {
   "cell_type": "code",
   "execution_count": 16,
   "metadata": {},
   "outputs": [
    {
     "data": {
      "text/plain": [
       "10-element Vector{Float64}:\n",
       " 1.0\n",
       " 2.0\n",
       " 2.0\n",
       " 4.0\n",
       " 5.0\n",
       " 7.0\n",
       " 8.0\n",
       " 8.0\n",
       " 9.0\n",
       " 9.0"
      ]
     },
     "execution_count": 16,
     "metadata": {},
     "output_type": "execute_result"
    }
   ],
   "source": [
    "function BubbleSort!(a::Array)\n",
    "    for i in collect(1:length(a)-1)\n",
    "        for j in collect(1:length(a)-i)\n",
    "            if a[j] > a[j+1]\n",
    "                a[j], a[j+1] = a[j+1], a[j]\n",
    "            end\n",
    "        end\n",
    "    end \n",
    "    return a   \n",
    "end\n",
    "\n",
    "data = floor.(rand(10)*10)\n",
    "BubbleSort!(data)"
   ]
  },
  {
   "cell_type": "markdown",
   "metadata": {},
   "source": []
  },
  {
   "cell_type": "markdown",
   "metadata": {},
   "source": [
    "# Roots of a Polynomia\n",
    "$$\n",
    "f(x) = a_{n}x^{n} + a_{n-1}x^{n-1} + \\cdots + a_{1}x + a_{0} = \\sum_{i=0}^{n}a_{i}x^{i}\n",
    "$$\n",
    "\n",
    "- This example is find all $x$ values that solve the equaiton $f(x)=-10x^{2}+3x+1 = 0$\n",
    "\n",
    "## Knowledges about Julia\n",
    "- `...` indicates that this function will accept comma separated parameters with an unspecified number of parameters."
   ]
  },
  {
   "cell_type": "code",
   "execution_count": 51,
   "metadata": {},
   "outputs": [
    {
     "name": "stdout",
     "output_type": "stream",
     "text": [
      "  0.247170 seconds (603.45 k allocations: 34.934 MiB, 10.28% gc time, 99.87% compilation time)\n",
      "Zeros of the function f(x): [-0.19999999999999998, 0.5]\n"
     ]
    }
   ],
   "source": [
    "using Roots\n",
    "\n",
    "function polynomiaGenerator(a...)\n",
    "    n = length(a) - 1\n",
    "    poly = function(x)\n",
    "        return sum([a[i+1]*x^i for i in 0:n])\n",
    "    end\n",
    "    return poly\n",
    "end\n",
    "\n",
    "@time begin\n",
    "    polynomia = polynomiaGenerator(1, 3, -10)\n",
    "    zeroVals = find_zeros(polynomia, -10, 10)    \n",
    "end\n",
    "println(\"Zeros of the function f(x): \", zeroVals)"
   ]
  },
  {
   "cell_type": "code",
   "execution_count": 37,
   "metadata": {},
   "outputs": [
    {
     "name": "stdout",
     "output_type": "stream",
     "text": [
      "  0.261125 seconds (610.18 k allocations: 35.754 MiB, 13.76% gc time, 99.88% compilation time)\n"
     ]
    },
    {
     "data": {
      "text/plain": [
       "2-element Vector{Float64}:\n",
       " -0.19999999999999998\n",
       "  0.5"
      ]
     },
     "execution_count": 37,
     "metadata": {},
     "output_type": "execute_result"
    }
   ],
   "source": [
    "function polynomiaGenerator2(a...)\n",
    "    f(x) = sum([a[i+1]*x^i for i in 0:length(a)-1])\n",
    "    return f\n",
    "end\n",
    "\n",
    "@time begin\n",
    "    polynomia2 = polynomiaGenerator2(1, 3, -10)\n",
    "    zeroVals = find_zeros(polynomia2, -10, 10)    \n",
    "end"
   ]
  },
  {
   "cell_type": "markdown",
   "metadata": {},
   "source": [
    "# Markov Chain\n",
    "- ***Transition probability matrix*** $\\mathbf{P}$: $P_{i,j}$ describes the probability of transitioning to $j$ state from current $i$ state\n",
    "  - i.e. The $i$ state is Rain today and the $j$ state is Fine next day, the $P_{i,j}$ is the probability of the next day is Fine when today is Rain.\n",
    "  - Thus $\\sum_{j}{P_{i,j}} = 1$\n",
    "- ***Stationary distribution*** $\\boldsymbol{\\pi}$"
   ]
  },
  {
   "cell_type": "code",
   "execution_count": 96,
   "metadata": {},
   "outputs": [
    {
     "data": {
      "text/plain": [
       "3×4 Matrix{Float64}:\n",
       " 0.4375  0.4375  0.4375  0.437674\n",
       " 0.3125  0.3125  0.3125  0.31249\n",
       " 0.25    0.25    0.25    0.249836"
      ]
     },
     "metadata": {},
     "output_type": "display_data"
    }
   ],
   "source": [
    "using LinearAlgebra, StatsBase\n",
    "\n",
    "\n",
    "P = [0.5 0.4 0.1;\n",
    "    0.3 0.2 0.5;\n",
    "    0.5 0.3 0.2];\n",
    "\n",
    "# First way\n",
    "piProb1 = (P^100)[1,:]\n",
    "\n",
    "# Second way\n",
    "A = vcat((P'-I)[1:2, :], ones(3)')\n",
    "b = [0 0 1]'\n",
    "piProb2 = A\\b\n",
    "\n",
    "# Third way\n",
    "eigVecs = eigvecs(copy(P'))\n",
    "highestVec = eigVecs[:, findmax(abs.(eigvals(P)))[2]]\n",
    "piProb3 = Array{Float64}(highestVec)/norm(highestVec,1)\n",
    "\n",
    "# Fourth way\n",
    "numInState = zeros(Int,3)\n",
    "state = 1\n",
    "N = 10^7\n",
    "for _ in 1:N\n",
    "    numInState[state] += 1\n",
    "    global state = sample(1:3, weights(P[state,:]))\n",
    "end\n",
    "piProb4 = numInState/N\n",
    "\n",
    "display([piProb1 piProb2 piProb3 piProb4])"
   ]
  },
  {
   "cell_type": "code",
   "execution_count": 106,
   "metadata": {},
   "outputs": [
    {
     "data": {
      "text/plain": [
       "2"
      ]
     },
     "execution_count": 106,
     "metadata": {},
     "output_type": "execute_result"
    }
   ],
   "source": [
    "weights(P[2,:])\n",
    "sample(1:3, weights(P[1,:]))"
   ]
  }
 ],
 "metadata": {
  "kernelspec": {
   "display_name": "Julia 1.6.3",
   "language": "julia",
   "name": "julia-1.6"
  },
  "language_info": {
   "file_extension": ".jl",
   "mimetype": "application/julia",
   "name": "julia",
   "version": "1.6.3"
  },
  "orig_nbformat": 4
 },
 "nbformat": 4,
 "nbformat_minor": 2
}
