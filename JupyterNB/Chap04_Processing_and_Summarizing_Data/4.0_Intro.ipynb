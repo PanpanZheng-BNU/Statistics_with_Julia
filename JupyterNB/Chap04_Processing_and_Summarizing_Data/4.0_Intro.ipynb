{
 "cells": [
  {
   "cell_type": "markdown",
   "metadata": {},
   "source": [
    "# Chapter04 Processing and Summarizing Data\n",
    "- In statistics nomenclature, the act of summarizing data is known as ***descriptive statistics***. In data science nomenclature such activities take the names of ***analytics*** and ***dash-boarding***, while the process of manipulating and pre-processing data is sometimes called ***data cleansing***, or ***data cleaning***.\n",
    "\n",
    "## Mutability, References, Shallow Copies and Deep Copies in Julia\n",
    "- Two different mechanisms for passing variables to functions.\n",
    "  - ***Call by value*** `f()` gets a copy of the variable `x`. As `f()` executes, even if the code appears to modify x, it is actually modifying a local copy.\n",
    "  - ***Call by reference*** `f()` obtains a ***memory reference*** (***pointer***) to `x`. In such a case, as `f()` executes, if it modifies `x`, then it actually modifies values in the original memory location of `x`.\n",
    "- In Julia, both mechanisms exist under a unified umbrella called ***pass by sharing***. This means that variables are not copied when passed to funcitons. However, if a value is about to a changed within a function then depending on the mutability attribute of its types.\n",
    "  - If the variable type is ***immutable*** then a local copy is made and the behavior follows the \"call by value\" type.\n",
    "  - If the variable type is ***mutable*** then the called function does not create a local copy. Instead, it can modify the original variable according to \"call by reference\" mechanisms.\n",
    "- In Julia, primitive type such as `Int64` or `Float32` are immutable. But arrays are mutable."
   ]
  },
  {
   "cell_type": "code",
   "execution_count": 2,
   "metadata": {},
   "outputs": [
    {
     "name": "stdout",
     "output_type": "stream",
     "text": [
      "typeof(x) = Int64\n",
      "isimmutable(x) = true\n",
      "Before call by value: 1\n",
      "After call by value: 1\n",
      "\n",
      "typeof(x) = Vector{Int64}\n",
      "isimmutable(x) = false\n",
      "Before call by reference: [1]\n",
      "After call by reference: [0]\n"
     ]
    }
   ],
   "source": [
    "f(z::Int) = begin z=0 end\n",
    "f(z::Array{Int}) = begin z[1]=0 end\n",
    "\n",
    "x = 1\n",
    "@show typeof(x)\n",
    "@show isimmutable(x)\n",
    "println(\"Before call by value: \", x)\n",
    "f(x)\n",
    "println(\"After call by value: \", x, '\\n')\n",
    "\n",
    "x = [1]\n",
    "@show typeof(x)\n",
    "@show isimmutable(x)\n",
    "println(\"Before call by reference: \", x)\n",
    "f(x)\n",
    "println(\"After call by reference: \", x)"
   ]
  },
  {
   "cell_type": "markdown",
   "metadata": {},
   "source": [
    "- `copy()` creats a \"shallow copy\" of the vairables and copies all entries but does not do it recursively.\n",
    "- `deepcopy()` recursively produces a copy until a completely independent copy of the variable is created."
   ]
  },
  {
   "cell_type": "code",
   "execution_count": 3,
   "metadata": {},
   "outputs": [
    {
     "name": "stdout",
     "output_type": "stream",
     "text": [
      "Immutable: \n",
      "a = 10\n",
      "\n",
      "No copy:\n",
      "a = [20]\n",
      "\n",
      "Copy: \n",
      "a = [10]\n",
      "\n",
      "Shallow copy: \n",
      "a = [[20]]\n",
      "\n",
      "Deep copy: \n",
      "a = [[10]]\n"
     ]
    }
   ],
   "source": [
    "println(\"Immutable: \")\n",
    "a = 10\n",
    "b = a\n",
    "b = 20\n",
    "@show a\n",
    "\n",
    "println(\"\\nNo copy:\")\n",
    "a = [10]\n",
    "b = a\n",
    "b[1] = 20\n",
    "@show a\n",
    "\n",
    "println(\"\\nCopy: \")\n",
    "a = [10]\n",
    "b = copy(a)\n",
    "b[1] = 20\n",
    "@show a\n",
    "\n",
    "println(\"\\nShallow copy: \")\n",
    "a = [[10]]\n",
    "b = copy(a)\n",
    "b[1][1] = 20\n",
    "@show a\n",
    "\n",
    "println(\"\\nDeep copy: \")\n",
    "a = [[10]]\n",
    "b = deepcopy(a)\n",
    "b[1][1] = 20\n",
    "@show a;"
   ]
  },
  {
   "cell_type": "code",
   "execution_count": 4,
   "metadata": {},
   "outputs": [
    {
     "name": "stdout",
     "output_type": "stream",
     "text": [
      "\n",
      "Shallow copy: \n",
      "a = [[10]]\n"
     ]
    }
   ],
   "source": [
    "println(\"\\nShallow copy: \")\n",
    "a = [[10]]\n",
    "b = copy(a)\n",
    "b[1] = [20]\n",
    "@show a;"
   ]
  }
 ],
 "metadata": {
  "kernelspec": {
   "display_name": "Julia 1.6.3",
   "language": "julia",
   "name": "julia-1.6"
  },
  "language_info": {
   "file_extension": ".jl",
   "mimetype": "application/julia",
   "name": "julia",
   "version": "1.6.3"
  },
  "orig_nbformat": 4
 },
 "nbformat": 4,
 "nbformat_minor": 2
}
