{
 "cells": [
  {
   "cell_type": "markdown",
   "metadata": {},
   "source": [
    "# Working with Data Frames\n",
    "## Introducing the Data Frame\n",
    "- The dataset has four fields: `Name`, `Date`, `Grade` and `Price`.\n",
    "- Any variable in a dataset can be classified as either a ***numerical variable*** or ***categorical vairable***.\n",
    "  - Categorical vairbles can be further split into ***nominal variables***, ***ordinal variables***."
   ]
  },
  {
   "cell_type": "code",
   "execution_count": 2,
   "metadata": {},
   "outputs": [
    {
     "name": "stdout",
     "output_type": "stream",
     "text": [
      "(200, 4)\n",
      "\n",
      "[\"Name\", \"Date\", \"Grade\", \"Price\"]\n",
      "\n",
      "\u001b[1m6×4 DataFrame\u001b[0m\n",
      "\u001b[1m Row \u001b[0m│\u001b[1m Name      \u001b[0m\u001b[1m Date       \u001b[0m\u001b[1m Grade    \u001b[0m\u001b[1m Price   \u001b[0m\n",
      "\u001b[1m     \u001b[0m│\u001b[90m String15? \u001b[0m\u001b[90m String15?  \u001b[0m\u001b[90m String1? \u001b[0m\u001b[90m Int64?  \u001b[0m\n",
      "─────┼──────────────────────────────────────────\n",
      "   1 │ MARYANNA   14/09/2008  A           79700\n",
      "   2 │ REBECCA    11/03/2008  B        \u001b[90m missing \u001b[0m\n",
      "   3 │ ASHELY     5/08/2008   E           24311\n",
      "   4 │ KHADIJAH   2/09/2008  \u001b[90m missing  \u001b[0m   38904\n",
      "   5 │ TANJA      1/12/2008   C           47052\n",
      "   6 │ JUDIE      17/05/2008  D           34365\n",
      "\n",
      "\u001b[1m4×7 DataFrame\u001b[0m\n",
      "\u001b[1m Row \u001b[0m│\u001b[1m variable \u001b[0m\u001b[1m mean    \u001b[0m\u001b[1m min       \u001b[0m\u001b[1m median  \u001b[0m\u001b[1m max       \u001b[0m\u001b[1m nmissing \u001b[0m\u001b[1m eltype                   \u001b[0m\n",
      "\u001b[1m     \u001b[0m│\u001b[90m Symbol   \u001b[0m\u001b[90m Union…  \u001b[0m\u001b[90m Any       \u001b[0m\u001b[90m Union…  \u001b[0m\u001b[90m Any       \u001b[0m\u001b[90m Int64    \u001b[0m\u001b[90m Union                    \u001b[0m\n",
      "─────┼──────────────────────────────────────────────────────────────────────────────────────\n",
      "   1 │ Name     \u001b[90m         \u001b[0m ABBEY     \u001b[90m         \u001b[0m ZACHARY          17  Union{Missing, String15}\n",
      "   2 │ Date     \u001b[90m         \u001b[0m 1/07/2008 \u001b[90m         \u001b[0m 9/10/2008         4  Union{Missing, String15}\n",
      "   3 │ Grade    \u001b[90m         \u001b[0m A         \u001b[90m         \u001b[0m E                13  Union{Missing, String1}\n",
      "   4 │ Price     39702.0  8257       38045.5  79893            14  Union{Missing, Int64}\n",
      "\n"
     ]
    }
   ],
   "source": [
    "using DataFrames, CSV\n",
    "data = CSV.read(\"../data/purchaseData.csv\", DataFrame, copycols = true)\n",
    "\n",
    "println(size(data), \"\\n\")\n",
    "println(names(data), \"\\n\")\n",
    "println(first(data,6), \"\\n\")\n",
    "println(describe(data), \"\\n\")"
   ]
  },
  {
   "cell_type": "code",
   "execution_count": 3,
   "metadata": {},
   "outputs": [
    {
     "data": {
      "text/plain": [
       "17"
      ]
     },
     "execution_count": 3,
     "metadata": {},
     "output_type": "execute_result"
    }
   ],
   "source": [
    "sum([ismissing(i) for i in data.Name])"
   ]
  },
  {
   "cell_type": "markdown",
   "metadata": {},
   "source": [
    "## Referencing Data"
   ]
  },
  {
   "cell_type": "code",
   "execution_count": 4,
   "metadata": {},
   "outputs": [
    {
     "name": "stdout",
     "output_type": "stream",
     "text": [
      "Grade of person 1: A, A, A\n",
      "\n",
      "\u001b[1m3×4 DataFrame\u001b[0m\n",
      "\u001b[1m Row \u001b[0m│\u001b[1m Name      \u001b[0m\u001b[1m Date       \u001b[0m\u001b[1m Grade    \u001b[0m\u001b[1m Price   \u001b[0m\n",
      "\u001b[1m     \u001b[0m│\u001b[90m String15? \u001b[0m\u001b[90m String15?  \u001b[0m\u001b[90m String1? \u001b[0m\u001b[90m Int64?  \u001b[0m\n",
      "─────┼──────────────────────────────────────────\n",
      "   1 │ MARYANNA   14/09/2008  A           79700\n",
      "   2 │ REBECCA    11/03/2008  B        \u001b[90m missing \u001b[0m\n",
      "   3 │ KHADIJAH   2/09/2008  \u001b[90m missing  \u001b[0m   38904\n",
      "\n",
      "Union{Missing, String15}[\"SAMMIE\", missing, \"STACEY\"]\n",
      "\n",
      "Union{Missing, String15}[\"SAMMIE\", missing, \"STACEY\"]\n",
      "\n",
      "\u001b[1m3×1 DataFrame\u001b[0m\n",
      "\u001b[1m Row \u001b[0m│\u001b[1m Name      \u001b[0m\n",
      "\u001b[1m     \u001b[0m│\u001b[90m String15? \u001b[0m\n",
      "─────┼───────────\n",
      "   1 │ SAMMIE\n",
      "   2 │\u001b[90m missing   \u001b[0m\n",
      "   3 │ STACEY\n"
     ]
    }
   ],
   "source": [
    "using DataFrames, CSV\n",
    "data = CSV.read(\"../data/purchaseData.csv\", DataFrame, copycols = true)\n",
    "\n",
    "println(\"Grade of person 1: \", data[1,3],\n",
    "    \", \", data[1,:Grade],\n",
    "    \", \", data.Grade[1], \"\\n\")\n",
    "println(data[[1,2,4],:], \"\\n\")\n",
    "println(data[13:15, :Name], \"\\n\")\n",
    "println(data.Name[13:15], \"\\n\")\n",
    "println(data[13:15, [:Name]])"
   ]
  },
  {
   "cell_type": "markdown",
   "metadata": {},
   "source": [
    "## Modifying Data\n",
    "- Functions performed on a data frame will return a copy of that data frame. In other words, no underlying change will be made to the data frame object, but rather a shallow copy will be made and returned as output.\n",
    "- By default, the columns of a data frame are ***immutable***, which means that the values within them cannot be changed. In order to make changes to a column, the column must first be mutable. One way to do this is by including `copycols=true` when a data frame is created from a `csv` file. This argument has the effect of making all columns mutable. Another way is by using `!` when referencing the rows of a data frame. For example, `df[!, :X]` references the underlying data in column `:X`, while `df[:,:X]` simply references a shallow copy."
   ]
  },
  {
   "cell_type": "code",
   "execution_count": 5,
   "metadata": {},
   "outputs": [
    {
     "name": "stdout",
     "output_type": "stream",
     "text": [
      "\n",
      "\u001b[1m3×4 DataFrame\u001b[0m\n",
      "\u001b[1m Row \u001b[0m│\u001b[1m Name      \u001b[0m\u001b[1m Date       \u001b[0m\u001b[1m Grade    \u001b[0m\u001b[1m Price   \u001b[0m\n",
      "\u001b[1m     \u001b[0m│\u001b[90m String15? \u001b[0m\u001b[90m String15?  \u001b[0m\u001b[90m String1? \u001b[0m\u001b[90m Int64?  \u001b[0m\n",
      "─────┼──────────────────────────────────────────\n",
      "   1 │ YARDEN     14/09/2008  A           79700\n",
      "   2 │ REBECCA    11/03/2008  B        \u001b[90m missing \u001b[0m\n",
      "   3 │ ASHELY     5/08/2008   E           24311\n",
      "\n"
     ]
    },
    {
     "name": "stderr",
     "output_type": "stream",
     "text": [
      "┌ Warning: Cannot: data1 is immutable\n",
      "└ @ Main In[5]:5\n"
     ]
    },
    {
     "name": "stdout",
     "output_type": "stream",
     "text": [
      "\u001b[1m3×4 DataFrame\u001b[0m\n",
      "\u001b[1m Row \u001b[0m│\u001b[1m Name      \u001b[0m\u001b[1m Date       \u001b[0m\u001b[1m Grade    \u001b[0m\u001b[1m Price(000's) \u001b[0m\n",
      "\u001b[1m     \u001b[0m│\u001b[90m String15? \u001b[0m\u001b[90m String15?  \u001b[0m\u001b[90m String1? \u001b[0m\u001b[90m Float64?     \u001b[0m\n",
      "─────┼───────────────────────────────────────────────\n",
      "   1 │ MARYANNA   14/09/2008  A               79.7\n",
      "   2 │ REBECCA    11/03/2008  B        \u001b[90m  missing     \u001b[0m\n",
      "   3 │ ASHELY     5/08/2008   E               24.311\n",
      "\n",
      "\u001b[1m3×4 DataFrame\u001b[0m\n",
      "\u001b[1m Row \u001b[0m│\u001b[1m Name      \u001b[0m\u001b[1m Date       \u001b[0m\u001b[1m Grade    \u001b[0m\u001b[1m Price   \u001b[0m\n",
      "\u001b[1m     \u001b[0m│\u001b[90m String15? \u001b[0m\u001b[90m String15?  \u001b[0m\u001b[90m String1? \u001b[0m\u001b[90m Int64?  \u001b[0m\n",
      "─────┼──────────────────────────────────────────\n",
      "   1 │ YARDEN     14/09/2008  A           79700\n",
      "   2 │ REBECCA    11/03/2008  B        \u001b[90m missing \u001b[0m\n",
      "   3 │ ASHELY     5/08/2008   F           24311\n",
      "\n"
     ]
    }
   ],
   "source": [
    "using DataFrames, CSV\n",
    "data1 = CSV.read(\"../data/purchaseData.csv\", DataFrame)\n",
    "data2 = CSV.read(\"../data/purchaseData.csv\", DataFrame, copycols=true)\n",
    "\n",
    "try data1[1,:name] = \"YARDEN\" catch; @warn \"Cannot: data1 is immutable\" end;\n",
    "\n",
    "data2[1,:Name] = \"YARDEN\"\n",
    "println(\"\\n\",first(data2,3),\"\\n\")\n",
    "\n",
    "data1[!, :Price] ./= 1000\n",
    "rename!(data1, :Price=>Symbol(\"Price(000's)\"))\n",
    "println(first(data1,3), \"\\n\")\n",
    "\n",
    "replace!(data2[!,:Grade], [\"E\"=>\"F\", \"D\"=>\"E\"]...)\n",
    "println(first(data2,3),\"\\n\")"
   ]
  },
  {
   "cell_type": "markdown",
   "metadata": {},
   "source": [
    "## Copying a Data Frame"
   ]
  },
  {
   "cell_type": "code",
   "execution_count": 6,
   "metadata": {},
   "outputs": [
    {
     "name": "stdout",
     "output_type": "stream",
     "text": [
      "Original value: MARYANNA\n",
      "\n",
      "data1.Name[1] = \"EMILY\"\n",
      "data1.Name[1] = \"MARYANNA\"\n",
      "\n",
      "(data1.X[1])[1] = -1\n",
      "(data1.X[1])[1] = 0\n"
     ]
    }
   ],
   "source": [
    "using DataFrames, CSV\n",
    "data1 = CSV.read(\"../data/purchaseData.csv\", DataFrame, copycols=true)\n",
    "println(\"Original value: \", data1.Name[1], \"\\n\")\n",
    "\n",
    "data2 = data1\n",
    "data2.Name[1] = \"EMILY\"\n",
    "@show data1.Name[1]\n",
    "\n",
    "data1 = CSV.read(\"../data/purchaseData.csv\", DataFrame, copycols=true)\n",
    "data2 = copy(data1)\n",
    "data2.Name[1] = \"EMILY\"\n",
    "@show data1.Name[1]\n",
    "println()\n",
    "\n",
    "data1 = DataFrame()\n",
    "data1.X = [[0,1], [100, 101]]\n",
    "data2 = copy(data1)\n",
    "data2.X[1][1] = -1\n",
    "@show data1.X[1][1]\n",
    "\n",
    "data1.X = [[0,1], [100, 101]]\n",
    "data2 = deepcopy(data1)\n",
    "data2.X[1][1] = -1\n",
    "@show data1.X[1][1];"
   ]
  },
  {
   "cell_type": "markdown",
   "metadata": {},
   "source": [
    "## Handling Missing Entries\n",
    "- `skipmissing()`: skip all `missing` values\n",
    "- `coalesce.(dfc::DataFrameColumns, string::String)`: replace all `missing` with string\n",
    "- `dropmissing(df::DataFrame, colName::Symbol)`: drop all cases which `colName` is `missing` value\n",
    "- `completecases(df::DataFrame)`: judge whether a case contains `missing` or not"
   ]
  },
  {
   "cell_type": "code",
   "execution_count": 7,
   "metadata": {},
   "outputs": [
    {
     "name": "stdout",
     "output_type": "stream",
     "text": [
      "missing\n",
      "\n",
      "39702.01075268817\n",
      "\n",
      "AbstractString[\"A\", \"B\", \"E\", \"QQ\"]\n",
      "\n",
      "\u001b[1m4×4 DataFrame\u001b[0m\n",
      "\u001b[1m Row \u001b[0m│\u001b[1m Name      \u001b[0m\u001b[1m Date       \u001b[0m\u001b[1m Grade    \u001b[0m\u001b[1m Price \u001b[0m\n",
      "\u001b[1m     \u001b[0m│\u001b[90m String15? \u001b[0m\u001b[90m String15?  \u001b[0m\u001b[90m String1? \u001b[0m\u001b[90m Int64 \u001b[0m\n",
      "─────┼────────────────────────────────────────\n",
      "   1 │ MARYANNA   14/09/2008  A         79700\n",
      "   2 │ ASHELY     5/08/2008   E         24311\n",
      "   3 │ KHADIJAH   2/09/2008  \u001b[90m missing  \u001b[0m 38904\n",
      "   4 │ TANJA      1/12/2008   C         47052\n",
      "\n",
      "17\n",
      "\n",
      "[1, 3, 5, 6]\n"
     ]
    }
   ],
   "source": [
    "using Statistics, DataFrames, CSV\n",
    "data = CSV.read(\"../data/purchaseData.csv\", DataFrame, copycols=true)\n",
    "\n",
    "println(mean(data.Price),\"\\n\")\n",
    "println(mean(skipmissing(data.Price)), \"\\n\")\n",
    "println(coalesce.(data.Grade, \"QQ\")[1:4], \"\\n\")\n",
    "println(first(dropmissing(data, :Price), 4), \"\\n\")\n",
    "println(sum(ismissing.(data.Name)), \"\\n\")\n",
    "println(findall(completecases(data))[1:4])"
   ]
  },
  {
   "cell_type": "code",
   "execution_count": 8,
   "metadata": {},
   "outputs": [
    {
     "data": {
      "text/plain": [
       "4-element Vector{Any}:\n",
       "  \"a\"\n",
       "  \"a\"\n",
       "  \"a\"\n",
       " 1"
      ]
     },
     "execution_count": 8,
     "metadata": {},
     "output_type": "execute_result"
    }
   ],
   "source": [
    "t = [missing, missing, missing, 1]\n",
    "coalesce.(t, \"a\")"
   ]
  },
  {
   "cell_type": "code",
   "execution_count": 9,
   "metadata": {},
   "outputs": [
    {
     "data": {
      "text/plain": [
       "200-element BitVector:\n",
       " 1\n",
       " 0\n",
       " 1\n",
       " 0\n",
       " 1\n",
       " 1\n",
       " 1\n",
       " 1\n",
       " 0\n",
       " 1\n",
       " 1\n",
       " 0\n",
       " 1\n",
       " ⋮\n",
       " 1\n",
       " 1\n",
       " 1\n",
       " 1\n",
       " 1\n",
       " 0\n",
       " 1\n",
       " 1\n",
       " 1\n",
       " 1\n",
       " 1\n",
       " 1"
      ]
     },
     "execution_count": 9,
     "metadata": {},
     "output_type": "execute_result"
    }
   ],
   "source": [
    "completecases(data)"
   ]
  },
  {
   "cell_type": "markdown",
   "metadata": {},
   "source": [
    "## Reshaping, Joining, and Manipulating Data Frames\n",
    "- Joins' style like SQL\n",
    "  - `innerjoin()`\n",
    "  - `outerjoin()`\n",
    "  - `rightjoin()`\n",
    "  - `leftjoin()`\n",
    "![SQL Joins](https://cdn.jsdelivr.net/gh/BNUPSYCHER/picture-host/SQL_Joins.svg)"
   ]
  },
  {
   "cell_type": "code",
   "execution_count": 10,
   "metadata": {},
   "outputs": [
    {
     "name": "stdout",
     "output_type": "stream",
     "text": [
      "\u001b[1m3×5 DataFrame\u001b[0m\n",
      "\u001b[1m Row \u001b[0m│\u001b[1m Name      \u001b[0m\u001b[1m Date       \u001b[0m\u001b[1m Grade    \u001b[0m\u001b[1m Price   \u001b[0m\u001b[1m Validated \u001b[0m\n",
      "\u001b[1m     \u001b[0m│\u001b[90m String15? \u001b[0m\u001b[90m String15?  \u001b[0m\u001b[90m String1? \u001b[0m\u001b[90m Int64?  \u001b[0m\u001b[90m Int64     \u001b[0m\n",
      "─────┼─────────────────────────────────────────────────────\n",
      "   1 │ MARYANNA   14/09/2008  A           79700          1\n",
      "   2 │ REBECCA    11/03/2008  B        \u001b[90m missing \u001b[0m         1\n",
      "   3 │ ASHELY     5/08/2008   E           24311          1\n",
      "\n",
      "\u001b[1m3×6 DataFrame\u001b[0m\n",
      "\u001b[1m Row \u001b[0m│\u001b[1m Name \u001b[0m\u001b[1m Date       \u001b[0m\u001b[1m Grade    \u001b[0m\u001b[1m Price   \u001b[0m\u001b[1m Validated \u001b[0m\u001b[1m PhoneNo \u001b[0m\n",
      "\u001b[1m     \u001b[0m│\u001b[90m Any  \u001b[0m\u001b[90m String15?  \u001b[0m\u001b[90m String1? \u001b[0m\u001b[90m Int64?  \u001b[0m\u001b[90m Int64?    \u001b[0m\u001b[90m Any     \u001b[0m\n",
      "─────┼─────────────────────────────────────────────────────────\n",
      "   1 │ RIVA  30/12/2008  E           21842          1 \u001b[90m missing \u001b[0m\n",
      "   2 │ JOHN \u001b[90m missing    \u001b[0m\u001b[90m missing  \u001b[0m\u001b[90m missing \u001b[0m\u001b[90m   missing \u001b[0m 123456\n",
      "   3 │ JACK \u001b[90m missing    \u001b[0m\u001b[90m missing  \u001b[0m\u001b[90m missing \u001b[0m\u001b[90m   missing \u001b[0m 909595\n",
      "\n",
      "\u001b[1m3×7 DataFrame\u001b[0m\n",
      "\u001b[1m Row \u001b[0m│\u001b[1m Name     \u001b[0m\u001b[1m Date       \u001b[0m\u001b[1m Grade    \u001b[0m\u001b[1m Price   \u001b[0m\u001b[1m Validated \u001b[0m\u001b[1m PhoneNo \u001b[0m\u001b[1m Job    \u001b[0m\n",
      "\u001b[1m     \u001b[0m│\u001b[90m Any      \u001b[0m\u001b[90m String15?  \u001b[0m\u001b[90m String1? \u001b[0m\u001b[90m Int64?  \u001b[0m\u001b[90m Int64?    \u001b[0m\u001b[90m Any     \u001b[0m\u001b[90m String \u001b[0m\n",
      "─────┼─────────────────────────────────────────────────────────────────────\n",
      "   1 │ MARYANNA  14/09/2008  A           79700          1 \u001b[90m missing \u001b[0m Lawyer\n",
      "   2 │ ASHELY    5/08/2008   E           24311          1 \u001b[90m missing \u001b[0m Doctor\n",
      "   3 │ JOHN     \u001b[90m missing    \u001b[0m\u001b[90m missing  \u001b[0m\u001b[90m missing \u001b[0m\u001b[90m   missing \u001b[0m 123456   Lawyer\n",
      "\n",
      "\u001b[1m3×2 DataFrame\u001b[0m\n",
      "\u001b[1m Row \u001b[0m│\u001b[1m Name     \u001b[0m\u001b[1m Job    \u001b[0m\n",
      "\u001b[1m     \u001b[0m│\u001b[90m Any      \u001b[0m\u001b[90m String \u001b[0m\n",
      "─────┼──────────────────\n",
      "   1 │ MARYANNA  Lawyer\n",
      "   2 │ ASHELY    Doctor\n",
      "   3 │ JOHN      Lawyer\n",
      "\n",
      "\u001b[1m2×2 DataFrame\u001b[0m\n",
      "\u001b[1m Row \u001b[0m│\u001b[1m Name     \u001b[0m\u001b[1m Job    \u001b[0m\n",
      "\u001b[1m     \u001b[0m│\u001b[90m Any      \u001b[0m\u001b[90m String \u001b[0m\n",
      "─────┼──────────────────\n",
      "   1 │ MARYANNA  Lawyer\n",
      "   2 │ ASHELY    Doctor\n",
      "\n"
     ]
    }
   ],
   "source": [
    "using Statistics, DataFrames, CSV\n",
    "data = CSV.read(\"../data/purchaseData.csv\", DataFrame, copycols=true)\n",
    "\n",
    "newCol = DataFrame(Validated=ones(Int, size(data,1)))\n",
    "newRow = DataFrame([[\"JOHN\", \"JACK\"] [123456, 909595]],[:Name, :PhoneNo])\n",
    "newData = DataFrame(Name=[\"JOHN\", \"ASHELY\", \"MARYANNA\"],\n",
    "    Job=[\"Lawyer\", \"Doctor\", \"Lawyer\"])\n",
    "\n",
    "data = hcat(data, newCol)\n",
    "println(first(data,3), \"\\n\")\n",
    "\n",
    "data = vcat(data, newRow, cols=:union)\n",
    "println(last(data,3), \"\\n\")\n",
    "\n",
    "data = innerjoin(data, newData, on=:Name, matchmissing=:equal)\n",
    "println(data,\"\\n\")\n",
    "\n",
    "select!(data, [:Name, :Job])\n",
    "println(data, \"\\n\")\n",
    "\n",
    "unique!(data, :Job)\n",
    "println(data, \"\\n\")"
   ]
  },
  {
   "cell_type": "markdown",
   "metadata": {},
   "source": [
    "## Useful Operations for Data Frames"
   ]
  },
  {
   "cell_type": "code",
   "execution_count": 11,
   "metadata": {},
   "outputs": [
    {
     "name": "stdout",
     "output_type": "stream",
     "text": [
      "\u001b[1m3×4 DataFrame\u001b[0m\n",
      "\u001b[1m Row \u001b[0m│\u001b[1m Name      \u001b[0m\u001b[1m Date       \u001b[0m\u001b[1m Grade   \u001b[0m\u001b[1m Price \u001b[0m\n",
      "\u001b[1m     \u001b[0m│\u001b[90m String15  \u001b[0m\u001b[90m Date       \u001b[0m\u001b[90m String1 \u001b[0m\u001b[90m Int64 \u001b[0m\n",
      "─────┼───────────────────────────────────────\n",
      "   1 │ STEPHEN    2008-02-11  D        33155\n",
      "   2 │ JACKELINE  2008-02-12  E         8257\n",
      "   3 │ ARDELL     2008-03-03  C        46911\n",
      "\n",
      "\u001b[1m3×4 DataFrame\u001b[0m\n",
      "\u001b[1m Row \u001b[0m│\u001b[1m Name     \u001b[0m\u001b[1m Date       \u001b[0m\u001b[1m Grade   \u001b[0m\u001b[1m Price \u001b[0m\n",
      "\u001b[1m     \u001b[0m│\u001b[90m String15 \u001b[0m\u001b[90m Date       \u001b[0m\u001b[90m String1 \u001b[0m\u001b[90m Int64 \u001b[0m\n",
      "─────┼──────────────────────────────────────\n",
      "   1 │ MARYANNA  2008-09-14  A        79700\n",
      "   2 │ ASHELY    2008-08-05  E        24311\n",
      "   3 │ TANJA     2008-12-01  C        47052\n",
      "\n",
      "\u001b[1m3×4 DataFrame\u001b[0m\n",
      "\u001b[1m Row \u001b[0m│\u001b[1m Name     \u001b[0m\u001b[1m Date       \u001b[0m\u001b[1m Grade \u001b[0m\u001b[1m Price \u001b[0m\n",
      "\u001b[1m     \u001b[0m│\u001b[90m String15 \u001b[0m\u001b[90m Date       \u001b[0m\u001b[90m Cat…  \u001b[0m\u001b[90m Int64 \u001b[0m\n",
      "─────┼────────────────────────────────────\n",
      "   1 │ MARYANNA  2008-09-14  A      79700\n",
      "   2 │ ASHELY    2008-08-05  E      24311\n",
      "   3 │ TANJA     2008-12-01  C      47052\n",
      "\n",
      "\u001b[1m5×3 DataFrame\u001b[0m\n",
      "\u001b[1m Row \u001b[0m│\u001b[1m Grade \u001b[0m\u001b[1m NumSold \u001b[0m\u001b[1m AvgPrice \u001b[0m\n",
      "\u001b[1m     \u001b[0m│\u001b[90m Cat…  \u001b[0m\u001b[90m Int64   \u001b[0m\u001b[90m Float64  \u001b[0m\n",
      "─────┼──────────────────────────\n",
      "   1 │ A           15   76606.7\n",
      "   2 │ B           19   59873.9\n",
      "   3 │ C           33   45285.8\n",
      "   4 │ D           35   34656.8\n",
      "   5 │ E           51   20492.5\n"
     ]
    }
   ],
   "source": [
    "using DataFrames, CSV, Dates, Statistics, CategoricalArrays\n",
    "data = dropmissing(CSV.read(\"../data/purchaseData.csv\", DataFrame, copycols=true))\n",
    "\n",
    "data[!, :Date] = Date.(data[!,:Date], \"d/m/y\")\n",
    "println(first(sort(data, :Date), 3), \"\\n\")\n",
    "\n",
    "println(first(filter(row -> row[:Price] > 5000, data), 3), \"\\n\")\n",
    "\n",
    "data[!,:Grade] = categorical(data[!,:Grade])\n",
    "println(first(data, 3), \"\\n\")\n",
    "\n",
    "println(\n",
    "    combine(groupby(data, :Grade), \n",
    "    :Price => (x->length(x)) => :NumSold, \n",
    "    :Price=> (x->mean(x)) => :AvgPrice)\n",
    ")"
   ]
  },
  {
   "cell_type": "markdown",
   "metadata": {},
   "source": [
    "## A Cleaning and Imputation Example\n",
    "- Instead of simply deleting rows, one way of dealing with `missing` values is to use ***imputation***. This involves substituting missing entries with velues based on either the data observed or according to some other logic.\n",
    "- Example"
   ]
  },
  {
   "cell_type": "code",
   "execution_count": 12,
   "metadata": {},
   "outputs": [
    {
     "name": "stdout",
     "output_type": "stream",
     "text": [
      "\u001b[1m5×4 DataFrame\u001b[0m\n",
      "\u001b[1m Row \u001b[0m│\u001b[1m Name      \u001b[0m\u001b[1m Date       \u001b[0m\u001b[1m Grade    \u001b[0m\u001b[1m Price  \u001b[0m\n",
      "\u001b[1m     \u001b[0m│\u001b[90m String15? \u001b[0m\u001b[90m String15?  \u001b[0m\u001b[90m String1? \u001b[0m\u001b[90m Int64? \u001b[0m\n",
      "─────┼─────────────────────────────────────────\n",
      "   1 │ MARYANNA   14/09/2008  A          79700\n",
      "   2 │ REBECCA    11/03/2008  B          60000\n",
      "   3 │ ASHELY     5/08/2008   E          24311\n",
      "   4 │ KHADIJAH   2/09/2008   D          38904\n",
      "   5 │ TANJA      1/12/2008   C          47052\n",
      "\n",
      "\u001b[1m4×7 DataFrame\u001b[0m\n",
      "\u001b[1m Row \u001b[0m│\u001b[1m variable \u001b[0m\u001b[1m mean    \u001b[0m\u001b[1m min       \u001b[0m\u001b[1m median  \u001b[0m\u001b[1m max       \u001b[0m\u001b[1m nmissing \u001b[0m\u001b[1m eltype                   \u001b[0m\n",
      "\u001b[1m     \u001b[0m│\u001b[90m Symbol   \u001b[0m\u001b[90m Union…  \u001b[0m\u001b[90m Any       \u001b[0m\u001b[90m Union…  \u001b[0m\u001b[90m Any       \u001b[0m\u001b[90m Int64    \u001b[0m\u001b[90m Union                    \u001b[0m\n",
      "─────┼──────────────────────────────────────────────────────────────────────────────────────\n",
      "   1 │ Name     \u001b[90m         \u001b[0m ABBEY     \u001b[90m         \u001b[0m ZACHARY           0  Union{Missing, String15}\n",
      "   2 │ Date     \u001b[90m         \u001b[0m 1/07/2008 \u001b[90m         \u001b[0m 9/10/2008         0  Union{Missing, String15}\n",
      "   3 │ Grade    \u001b[90m         \u001b[0m A         \u001b[90m         \u001b[0m E                 0  Union{Missing, String1}\n",
      "   4 │ Price     40037.9  8257       38045.5  79893             0  Union{Missing, Int64}\n"
     ]
    }
   ],
   "source": [
    "using DataFrames, CSV, Statistics\n",
    "data = CSV.read(\"../data/purchaseData.csv\", DataFrame)\n",
    "\n",
    "rowsKeep = .!(ismissing.(data.Grade) .& ismissing.(data.Price))\n",
    "data = data[rowsKeep, :]\n",
    "\n",
    "replace!(x -> ismissing(x) ? \"QQ\" : x, data.Name)\n",
    "replace!(x -> ismissing(x) ? \"31/06/2008\" : x, data.Date)\n",
    "\n",
    "grPr = combine(groupby(dropmissing(data) ,:Grade),\n",
    "    :Price => (x -> round(mean(x), digits=-3)) => :AvgPrice)\n",
    "\n",
    "d = Dict(grPr[:,1] .=> grPr[:,2])\n",
    "nearIndx(v,x) = findmin(abs.(v.-x))[2]\n",
    "for i in 1:nrow(data)\n",
    "    if ismissing(data[i, :Price])\n",
    "        data[i, :Price] = d[data[i, :Grade]]\n",
    "    end\n",
    "    if ismissing(data[i, :Grade])\n",
    "        data[i, :Grade] = grPr[nearIndx(grPr[:,2], data[i, :Price]), :Grade]\n",
    "    end\n",
    "end\n",
    "\n",
    "println(first(data,5),\"\\n\")\n",
    "println(describe(data))\n"
   ]
  }
 ],
 "metadata": {
  "kernelspec": {
   "display_name": "Julia 1.6.3",
   "language": "julia",
   "name": "julia-1.6"
  },
  "language_info": {
   "file_extension": ".jl",
   "mimetype": "application/julia",
   "name": "julia",
   "version": "1.6.3"
  },
  "orig_nbformat": 4
 },
 "nbformat": 4,
 "nbformat_minor": 2
}
