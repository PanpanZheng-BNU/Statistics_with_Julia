{
 "cells": [
  {
   "cell_type": "markdown",
   "metadata": {},
   "source": [
    "# Independence\n",
    "- Two events $A$ and $B$ can be said to be independent if the probability of their *intersection* is the product of their probability\n",
    "$$\n",
    "\\mathbb{P}(A\\cap B) = \\mathbb{P}(A)\\mathbb{P}(B)\n",
    "$$\n",
    "- **\"Independent events\" should not be confused with \"disjoint events\"**, for two disjoint events $A$ and $B$\n",
    "$$\n",
    "0 = \\mathbb{P}(\\emptyset) = \\mathbb{P}(A\\cap B) \\ne \\mathbb{P}(A)\\mathbb{P}(B)\n",
    "$$\n"
   ]
  },
  {
   "cell_type": "code",
   "execution_count": 1,
   "metadata": {},
   "outputs": [
    {
     "name": "stdout",
     "output_type": "stream",
     "text": [
      "P(13) = 0.0623\n",
      "P(1_) = 0.6249\n",
      "P(_3) = 0.1248\n",
      "P(1_)*P(3_) = 0.078\n"
     ]
    }
   ],
   "source": [
    "using Random\n",
    "Random.seed!(1)\n",
    "\n",
    "numbers = 10:25\n",
    "N = 10^7\n",
    "\n",
    "first(x) = Int(floor(x/10))\n",
    "second(x) = Int(x%10)\n",
    "\n",
    "numThirteen, numFirstIsOne, numSecondIsThree = 0, 0, 0\n",
    "\n",
    "for _ in 1:N\n",
    "    X = rand(numbers)\n",
    "    global numThirteen += X == 13\n",
    "    global numFirstIsOne += first(X) == 1\n",
    "    global numSecondIsThree += second(X) == 3\n",
    "end\n",
    "\n",
    "probThirteen, probFirstIsOne, probSecondIsThree = \n",
    "    (numThirteen, numFirstIsOne, numSecondIsThree) ./ N\n",
    "\n",
    "println(\"P(13) = \", round(probThirteen, digits=4),\n",
    "    \"\\nP(1_) = \", round(probFirstIsOne, digits=4),\n",
    "    \"\\nP(_3) = \", round(probSecondIsThree, digits=4),\n",
    "    \"\\nP(1_)*P(3_) = \", round(probFirstIsOne*probSecondIsThree, digits=4))"
   ]
  },
  {
   "cell_type": "code",
   "execution_count": 2,
   "metadata": {},
   "outputs": [
    {
     "name": "stdout",
     "output_type": "stream",
     "text": [
      "P(13) = 0.0623\n",
      "P(1_) = 0.6249\n",
      "P(_3) = 0.1248\n",
      "P(1_)*P(3_) = 0.078\n"
     ]
    }
   ],
   "source": [
    "using Random\n",
    "Random.seed!(1)\n",
    "\n",
    "numbers = 10:25\n",
    "N = 10^7\n",
    "   \n",
    "first(x::Int) = Int(floor(x/10))\n",
    "second(x) = Int(x%10)\n",
    "\n",
    "probThirteen, probFirstIsOne, probSecondIsThree = \n",
    "    sum([[x==13 first(x)==1 second(x)==3] for x in rand(numbers, N)])./N\n",
    "    \n",
    "println(\"P(13) = \", round(probThirteen, digits=4),\n",
    "    \"\\nP(1_) = \", round(probFirstIsOne, digits=4),\n",
    "    \"\\nP(_3) = \", round(probSecondIsThree, digits=4),\n",
    "    \"\\nP(1_)*P(3_) = \", round(probFirstIsOne*probSecondIsThree, digits=4))\n"
   ]
  }
 ],
 "metadata": {
  "kernelspec": {
   "display_name": "Julia 1.6.3",
   "language": "julia",
   "name": "julia-1.6"
  },
  "language_info": {
   "file_extension": ".jl",
   "mimetype": "application/julia",
   "name": "julia",
   "version": "1.6.3"
  },
  "orig_nbformat": 4
 },
 "nbformat": 4,
 "nbformat_minor": 2
}
