{
 "cells": [
  {
   "cell_type": "markdown",
   "metadata": {},
   "source": [
    "# Conditional Probability\n",
    "- ***Conditional probability*** of $A$ given $B$, denoted by $\\mathbb{P}(A\\vert B)$\n",
    "$$\n",
    "\\mathbb{P}(A \\vert B) = \\frac{\\mathbb{P}(A \\cap B)}{\\mathbb{P}(B)}\n",
    "$$\n",
    "  - If $A$ and $B$ are independent events\n",
    "  $$\n",
    "  \\mathbb{P}(A \\vert B) = \\mathbb{P}(A)\n",
    "  $$\n",
    "\n",
    "## The Law of Total Probability\n",
    "$$\n",
    "\\mathbb{P}(A\\cap B) = \\mathbb{P}(B)\\mathbb{P}(A\\vert B)\n",
    "$$\n",
    "- This is useful when there exists some *partition* of $\\Omega$, namely, $\\{B_{1}, B_{2}, \\cdots\\}$. A partition of a set $U$ is a collection of non-empty sets that are mutally **disjoint** and **whose union is $U$**. Such a partition allows us to represent $A$ as a diajoint union of the sets $A\\cap B$, thus we have the ***law of total probability***\n",
    "$$\n",
    "\\mathbb{P} = \\sum_{k=0}^{\\infty}\\mathbb{P}(A\\cap B_{k}) = \\sum_{k=0}^{\\infty}\\mathbb{P}(A\\vert B_{k})\\mathbb{P}(B_{k})\n",
    "$$\n",
    "- ***Example***\n",
    "  - Considering the world of semi-conductor manufacturing. Room cleaness in the manufacturing process is critical, and dust particles are kept to a minimum. Let $A$ be the event of a manufacturing failure, and assume that it dependents on the number of dust particles via\n",
    "  $$\n",
    "  \\mathbb{P}(A\\vert B_{k}) =  1 - \\frac{1}{k+1}\n",
    "  $$\n",
    "  - Where $B_{k}$ is the event of having $k$ dust particles in the room, further assume that\n",
    "  $$\n",
    "  \\mathbb{P}(B) = \\frac{6}{\\pi^{2}(k+1)^{2}} \\quad \\text{for } k = 0,1,\\cdots\n",
    "  $$\n",
    "  - $\\zeta(s) = \\sum_{n=1}^{\\infty}\\frac{1}{n^{s}}$ is ***Riemann Zeta Funciton*** \n",
    "  $$\n",
    "  \\begin{array}{ll}\n",
    "  \\because & \\mathbb{P}(A) = \\sum_{k=0}^{\\infty}\\mathbb{P}(A\\vert B)\\mathbb{P}(B) \\\\\n",
    "  \\therefore & \\mathbb{P}(A) = \\sum_{k=0}^{\\infty}\\bigg(1 - \\frac{1}{k+1}\\bigg)\\frac{6}{\\pi^{2}(k+1)^{2}} \\\\\n",
    "  \\because & \\sum_{n=1}^{\\infty}\\frac{1}{n^{2}} = \\frac{\\pi^{2}}{6} = \\zeta(2)\\\\\n",
    "  \\therefore & \\mathbb{P}(A) = 1 - \\frac{6}{\\pi^{2}}\\zeta(3) \\\\\n",
    "  \\because & \\zeta(3) \\approx 1.2021 \\\\\n",
    "  \\therefore & \\mathbb{P}(A) \\approx 0.2692 \\\\\n",
    "  \\end{array}\n",
    "  $$\n"
   ]
  },
  {
   "cell_type": "code",
   "execution_count": 1,
   "metadata": {},
   "outputs": [
    {
     "name": "stdout",
     "output_type": "stream",
     "text": [
      "Analytic: 0.26923703059856097\tNumerical: 0.2689333707327894\n"
     ]
    }
   ],
   "source": [
    "using SpecialFunctions\n",
    "\n",
    "n = 2000\n",
    "\n",
    "probAgivenB(k) = 1 - 1/(k+1)\n",
    "probB(k) = 6/(pi^2*(k+1)^2)\n",
    "\n",
    "numerical = sum([probAgivenB(k)*probB(k) for k in 1:n])\n",
    "analytic = 1-6/pi^2*zeta(3)\n",
    "\n",
    "println(\"Analytic: \", analytic, \"\\tNumerical: \", numerical)"
   ]
  }
 ],
 "metadata": {
  "kernelspec": {
   "display_name": "Julia 1.6.3",
   "language": "julia",
   "name": "julia-1.6"
  },
  "language_info": {
   "file_extension": ".jl",
   "mimetype": "application/julia",
   "name": "julia",
   "version": "1.6.3"
  },
  "orig_nbformat": 4
 },
 "nbformat": 4,
 "nbformat_minor": 2
}
