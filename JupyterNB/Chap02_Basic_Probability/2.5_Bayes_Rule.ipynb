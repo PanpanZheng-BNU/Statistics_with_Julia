{
 "cells": [
  {
   "cell_type": "markdown",
   "metadata": {},
   "source": [
    "# Bayes' Rule\n",
    "$$\n",
    "\\mathbb{P}(A\\vert B) = \\frac{\\mathbb{P}(B\\vert A)\\mathbb{P}(A)}{\\mathbb{P}(B)}\n",
    "$$\n",
    "- Often we observe a *posterior outcome* or measurement, say the event $B$, and wish to evaluate the probability of a *prior condition*, say the event $A$. That is, given some measurement or knowledge we wish to evaluate how likely is it that a prior condition occurred. \n",
    "\n",
    "## Was it a 0 or 1?\n",
    "- Considering a communication channel involving a stream of transmitted bits (0's and 1's), where 70% of the bits are 1, and the rest are 0. The channel is imperfect dut to physical disturbances such as interfering radio signals, and furthermore the bits received are sometimes distorted. Hence there is a chance($\\epsilon_{0}$) of interpreting a bit as 1 when it is actually 0, and similarly there is a chance ($\\epsilon_{1}$) of interpreting a bit as 0 when it is actually 1.\n",
    "- Now we received ($R_{x}$) a bit, and interpreted it as 1. This is the *posterior outcome*. What is the chance that it was in fact transmitted ($T_{x}$) as 1?\n",
    "$$\n",
    "\\mathbb{P}(T_{x}\\vert R_{x}) = \\frac{\\mathbb{P}(R_{x}\\vert T_{x})\\mathbb{P}(T_{x})}{\\mathbb{P}(R_{x})} = \\frac{(1-\\epsilon_{1})0.7}{0.7(1-\\epsilon_{1}) + 0.3\\epsilon_{0}}\n",
    "$$\n",
    "- If $\\epsilon_{0} = 0.1$ and $\\epsilon_{1}=0.05$, then $\\mathbb{P}(T_{x}\\vert R_{x})=0.9568$"
   ]
  },
  {
   "cell_type": "code",
   "execution_count": 1,
   "metadata": {},
   "outputs": [
    {
     "name": "stdout",
     "output_type": "stream",
     "text": [
      "Monte Carlo: 0.9576048007598325\t\tAnalytic: 0.9568345323741007\n"
     ]
    }
   ],
   "source": [
    "using Random\n",
    "Random.seed!(1)\n",
    "\n",
    "N = 10^5\n",
    "prob1 = 0.7\n",
    "eps0, eps1 = 0.1, 0.05\n",
    "\n",
    "filpWithProb(bit, prob) = rand() < prob ? xor(bit,1) : bit\n",
    "\n",
    "TxData = rand(N) .< prob1\n",
    "RxData = [x == 0 ? filpWithProb(x, eps0) : filpWithProb(x, eps1) for x in TxData]\n",
    "\n",
    "numTx1 = 0\n",
    "totalRx1 = 0\n",
    "for i in 1:N\n",
    "    if RxData[i] == 1\n",
    "        global totalRx1 += 1\n",
    "        global numTx1 += TxData[i]\n",
    "    end\n",
    "end\n",
    "\n",
    "monteCarlo = numTx1/totalRx1\n",
    "analytic = ((1-eps1)*0.7)/(0.7*(1-eps1) + 0.3*eps0)\n",
    "\n",
    "println(\"Monte Carlo: \", monteCarlo, \"\\t\\tAnalytic: \", analytic)"
   ]
  },
  {
   "cell_type": "code",
   "execution_count": 2,
   "metadata": {},
   "outputs": [
    {
     "name": "stdout",
     "output_type": "stream",
     "text": [
      "Monte Carlo: 0.9576048007598325\t\tAnalytic: 0.9568345323741007\n"
     ]
    }
   ],
   "source": [
    "using Random\n",
    "Random.seed!(1)\n",
    "\n",
    "N = 10^5\n",
    "prob1 = 0.7\n",
    "eps0, eps1 = 0.1, 0.05\n",
    "\n",
    "filpWithProb(bit, prob) = rand() < prob ? xor(bit,1) : bit\n",
    "\n",
    "TxData = rand(N) .< prob1\n",
    "RxData = [x == 0 ? filpWithProb(x, eps0) : filpWithProb(x, eps1) for x in TxData]\n",
    "\n",
    "numTx1, totalRx1 = sum([RxData[i] == 1 ? [TxData[i], RxData[i]] : [0,0] for i in 1:N])\n",
    "\n",
    "monteCarlo = numTx1/totalRx1\n",
    "analytic = ((1-eps1)*0.7)/(0.7*(1-eps1) + 0.3*eps0)\n",
    "\n",
    "println(\"Monte Carlo: \", monteCarlo, \"\\t\\tAnalytic: \", analytic)"
   ]
  },
  {
   "cell_type": "markdown",
   "metadata": {},
   "source": [
    "## The Monty Hall Problem\n",
    "- Consider a contestant on television show, with three doors in front of her. One of doors contains a prize, while the other two are empty. The contestant is then asked to guess which door contains the prize, and she makes a random guess. Following this, the game show host (GSH) reveals an empty door form one of the two remaining doors not choosen.The conestant is then asked if she wishes to stay with their original choice, or if she wishes to switch to the remaining closed door.\n",
    "- The two possible policies for the contestant are as follows:\n",
    "  - **Policy I**: Stay with their original choice after the door is revealed.\n",
    "  - **Policy II**: Switch after the door is revealed.\n",
    "- Let $A_{i}$ be the event that the prize is behind door $i$. Let $B_{i}$ be the event that door $i$ is revealed by the GSH, if the player initially choose door 1 and then the GSH revealed door 2, then\n",
    "$$\n",
    "\\begin{split}\n",
    "\\mathbb{P}(A_{1}\\vert B_{2}) = \\frac{\\mathbb{P}(B_{2}\\vert A_{1})\\mathbb{P}(A_{1})}{\\mathbb{P}(B_{2})} = \\frac{\\frac{1}{2}\\times \\frac{1}{3}}{\\frac{1}{2}} = \\frac{1}{3}\\quad & (\\textbf{Policy I}) \\\\\n",
    "\\mathbb{P}(A_{3}\\vert B_{2}) = \\frac{\\mathbb{P}(B_{2}\\vert A_{3})\\mathbb{P}(A_{3})}{\\mathbb{P}(B_{2})} = \\frac{1\\times\\frac{1}{3}}{\\frac{1}{2}} = \\frac{2}{3}\\quad & (\\textbf{Policy II}) \\\\\n",
    "\\end{split}\n",
    "$$\n",
    "\n"
   ]
  },
  {
   "cell_type": "code",
   "execution_count": 3,
   "metadata": {},
   "outputs": [
    {
     "name": "stdout",
     "output_type": "stream",
     "text": [
      "Success probability with policy I (stay): 0.33336\n",
      "Success probability with policy II (switch): 0.666588\n"
     ]
    }
   ],
   "source": [
    "using Random\n",
    "Random.seed!(1)\n",
    "\n",
    "function montyHall(switchPolicy)\n",
    "    prize, choice = rand(1:3), rand(1:3)\n",
    "    if prize == choice\n",
    "        revealed = rand(setdiff(1:3, choice))\n",
    "    else\n",
    "        revealed = rand(setdiff(1:3, [choice, prize]))\n",
    "    end\n",
    "    \n",
    "    if switchPolicy\n",
    "        choice = setdiff(1:3, [revealed, choice])[1]\n",
    "    end\n",
    "    return choice == prize\n",
    "end\n",
    "\n",
    "N = 10^6\n",
    "println(\"Success probability with policy I (stay): \", \n",
    "    sum([montyHall(false) for _ in 1:N])/N)\n",
    "println(\"Success probability with policy II (switch): \",\n",
    "    sum([montyHall(true) for _ in 1:N])/N)"
   ]
  }
 ],
 "metadata": {
  "kernelspec": {
   "display_name": "Julia 1.6.3",
   "language": "julia",
   "name": "julia-1.6"
  },
  "language_info": {
   "file_extension": ".jl",
   "mimetype": "application/julia",
   "name": "julia",
   "version": "1.6.3"
  },
  "orig_nbformat": 4
 },
 "nbformat": 4,
 "nbformat_minor": 2
}
