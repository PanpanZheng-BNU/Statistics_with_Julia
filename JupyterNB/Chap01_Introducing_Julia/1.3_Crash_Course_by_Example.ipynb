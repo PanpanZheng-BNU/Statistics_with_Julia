{
 "cells": [
  {
   "cell_type": "markdown",
   "metadata": {},
   "source": [
    "# 1.3 Crash Course by Example\n",
    "## 1.3.1 Bubble Sort"
   ]
  },
  {
   "cell_type": "code",
   "execution_count": 1,
   "metadata": {},
   "outputs": [
    {
     "data": {
      "text/plain": [
       "10-element Vector{Float64}:\n",
       " 0.0\n",
       " 0.0\n",
       " 1.0\n",
       " 3.0\n",
       " 5.0\n",
       " 6.0\n",
       " 8.0\n",
       " 8.0\n",
       " 9.0\n",
       " 9.0"
      ]
     },
     "execution_count": 1,
     "metadata": {},
     "output_type": "execute_result"
    }
   ],
   "source": [
    "function BubbleSort!(a::Array)\n",
    "    for i in collect(1:length(a)-1)\n",
    "        for j in collect(1:length(a)-i)\n",
    "            if a[j] > a[j+1]\n",
    "                a[j], a[j+1] = a[j+1], a[j]\n",
    "            end\n",
    "        end\n",
    "    end \n",
    "    return a   \n",
    "end\n",
    "\n",
    "data = floor.(rand(10)*10)\n",
    "BubbleSort!(data)"
   ]
  },
  {
   "cell_type": "markdown",
   "metadata": {},
   "source": [
    "## 1.3.2 Roots of a Polynomia\n",
    "$$\n",
    "f(x) = a_{n}x^{n} + a_{n-1}x^{n-1} + \\cdots + a_{1}x + a_{0} = \\sum_{i=0}^{n}a_{i}x^{i}\n",
    "$$\n",
    "\n",
    "- This example is find all $x$ values that solve the equaiton $f(x)=-10x^{2}+3x+1 = 0$\n",
    "\n",
    "### Knowledges about Julia\n",
    "- `...` indicates that this function will accept comma separated parameters with an unspecified number of parameters."
   ]
  },
  {
   "cell_type": "code",
   "execution_count": 2,
   "metadata": {},
   "outputs": [
    {
     "name": "stdout",
     "output_type": "stream",
     "text": [
      "  1.677552 seconds (3.83 M allocations: 222.090 MiB, 11.01% gc time, 99.98% compilation time)\n",
      "Zeros of the function f(x): [-0.19999999999999998, 0.5]\n"
     ]
    }
   ],
   "source": [
    "using Roots\n",
    "\n",
    "function polynomiaGenerator(a...)\n",
    "    n = length(a) - 1\n",
    "    poly = function(x)\n",
    "        return sum([a[i+1]*x^i for i in 0:n])\n",
    "    end\n",
    "    return poly\n",
    "end\n",
    "\n",
    "@time begin\n",
    "    polynomia = polynomiaGenerator(1, 3, -10)\n",
    "    zeroVals = find_zeros(polynomia, -10, 10)    \n",
    "end\n",
    "println(\"Zeros of the function f(x): \", zeroVals)"
   ]
  },
  {
   "cell_type": "code",
   "execution_count": 3,
   "metadata": {},
   "outputs": [
    {
     "name": "stdout",
     "output_type": "stream",
     "text": [
      "  0.200509 seconds (610.16 k allocations: 35.747 MiB, 5.27% gc time, 99.87% compilation time)\n"
     ]
    },
    {
     "data": {
      "text/plain": [
       "2-element Vector{Float64}:\n",
       " -0.19999999999999998\n",
       "  0.5"
      ]
     },
     "execution_count": 3,
     "metadata": {},
     "output_type": "execute_result"
    }
   ],
   "source": [
    "function polynomiaGenerator2(a...)\n",
    "    f(x) = sum([a[i+1]*x^i for i in 0:length(a)-1])\n",
    "    return f\n",
    "end\n",
    "\n",
    "@time begin\n",
    "    polynomia2 = polynomiaGenerator2(1, 3, -10)\n",
    "    zeroVals = find_zeros(polynomia2, -10, 10)    \n",
    "end"
   ]
  },
  {
   "cell_type": "markdown",
   "metadata": {},
   "source": [
    "## 1.3.3 Markov Chain\n",
    "- ***Transition probability matrix*** $\\mathbf{P}$: $P_{i,j}$ describes the probability of transitioning to $j$ state from current $i$ state\n",
    "  - i.e. The $i$ state is Rain today and the $j$ state is Fine next day, the $P_{i,j}$ is the probability of the next day is Fine when today is Rain.\n",
    "  - Thus $\\sum_{j}{P_{i,j}} = 1$\n",
    "- ***Stationary distribution*** $\\boldsymbol{\\pi}$"
   ]
  },
  {
   "cell_type": "code",
   "execution_count": 4,
   "metadata": {},
   "outputs": [
    {
     "data": {
      "text/plain": [
       "3×4 Matrix{Float64}:\n",
       " 0.4375  0.4375  0.4375  0.437744\n",
       " 0.3125  0.3125  0.3125  0.312404\n",
       " 0.25    0.25    0.25    0.249852"
      ]
     },
     "metadata": {},
     "output_type": "display_data"
    }
   ],
   "source": [
    "using LinearAlgebra, StatsBase\n",
    "\n",
    "\n",
    "P = [0.5 0.4 0.1;\n",
    "    0.3 0.2 0.5;\n",
    "    0.5 0.3 0.2];\n",
    "\n",
    "# First way\n",
    "piProb1 = (P^100)[1,:]\n",
    "\n",
    "# Second way\n",
    "A = vcat((P'-I)[1:2, :], ones(3)')\n",
    "b = [0 0 1]'\n",
    "piProb2 = A\\b\n",
    "\n",
    "# Third way\n",
    "eigVecs = eigvecs(copy(P'))\n",
    "highestVec = eigVecs[:, findmax(abs.(eigvals(P)))[2]]\n",
    "piProb3 = Array{Float64}(highestVec)/norm(highestVec,1)\n",
    "\n",
    "# Fourth way\n",
    "numInState = zeros(Int,3)\n",
    "state = 1\n",
    "N = 10^7\n",
    "for _ in 1:N\n",
    "    numInState[state] += 1\n",
    "    global state = sample(1:3, weights(P[state,:]))\n",
    "end\n",
    "piProb4 = numInState/N\n",
    "\n",
    "display([piProb1 piProb2 piProb3 piProb4])"
   ]
  },
  {
   "cell_type": "markdown",
   "metadata": {},
   "source": [
    "## 1.3.4 Web Interfacing, JSON, and String Processing"
   ]
  },
  {
   "cell_type": "code",
   "execution_count": 5,
   "metadata": {},
   "outputs": [
    {
     "data": {
      "text/plain": [
       "5-element Vector{Pair{String, Int64}}:\n",
       " \"king\" => 1698\n",
       " \"love\" => 1279\n",
       "  \"man\" => 1033\n",
       "  \"sir\" => 721\n",
       "  \"god\" => 555"
      ]
     },
     "metadata": {},
     "output_type": "display_data"
    }
   ],
   "source": [
    "using HTTP, JSON\n",
    "\n",
    "data = HTTP.request(\"GET\",\n",
    "\"https://ocw.mit.edu/ans7870/6/6.006/s08/lecturenotes/files/t8.shakespeare.txt\")\n",
    "shakespeare = String(data.body)\n",
    "shakespeareWords = split(shakespeare)\n",
    "\n",
    "# jsonWords = HTTP.request(\"GET\",\n",
    "# \"https://raw.githubusercontent.com/\"*\n",
    "# \"h-Klok/StatsWithJuliaBook/master/data/jsonCode.json\")\n",
    "jsonWords = \"\"\"\n",
    "{\n",
    "  \"words\": [ \"heaven\",\"hell\",\"man\",\"woman\",\"boy\",\"girl\",\"king\",\"queen\",\n",
    "\t\"prince\",\"sir\",\"love\",\"hate\",\"knife\",\"english\",\"england\",\"god\"],\n",
    "  \"numToShow\": 5\n",
    "}\n",
    "\"\"\";\n",
    "parseJsonDict = JSON.parse(jsonWords)\n",
    "\n",
    "keywords = Array{String}(parseJsonDict[\"words\"])\n",
    "numberToShow = parseJsonDict[\"numToShow\"]\n",
    "wordCount = Dict([(x, count(w -> lowercase(w) == lowercase(x), shakespeareWords)) for x in keywords])\n",
    "\n",
    "sortedWordCount = sort(collect(wordCount), by=last, rev=true)\n",
    "display(sortedWordCount[1:numberToShow])"
   ]
  }
 ],
 "metadata": {
  "interpreter": {
   "hash": "63ebcd7f6d11786aa55810da33e2a1cfe03a4682efc8469793c296fefe8f2fea"
  },
  "kernelspec": {
   "display_name": "Julia 1.6.3",
   "language": "julia",
   "name": "julia-1.6"
  },
  "language_info": {
   "file_extension": ".jl",
   "mimetype": "application/julia",
   "name": "julia",
   "version": "1.6.3"
  },
  "orig_nbformat": 4
 },
 "nbformat": 4,
 "nbformat_minor": 2
}
