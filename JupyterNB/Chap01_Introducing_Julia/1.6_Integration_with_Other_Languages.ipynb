{
 "cells": [
  {
   "cell_type": "markdown",
   "metadata": {},
   "source": [
    "# Integration with Other Languages\n",
    "## Using and Calling R Packages"
   ]
  },
  {
   "cell_type": "code",
   "execution_count": 17,
   "metadata": {},
   "outputs": [
    {
     "name": "stdout",
     "output_type": "stream",
     "text": [
      "R ANOVA f-value: 10.516968568709087\n",
      "R ANOVA p-value: 0.00014236168817139574\n"
     ]
    }
   ],
   "source": [
    "using CSV, DataFrames, RCall\n",
    "\n",
    "data1 = CSV.read(\"../data/machine1.csv\",DataFrame,header=false)[:,1];\n",
    "data2 = CSV.read(\"../data/machine2.csv\",DataFrame,header=false)[:,1];\n",
    "data3 = CSV.read(\"../data/machine3.csv\",DataFrame,header=false)[:,1];\n",
    "\n",
    "function R_ANOVA(allData)\n",
    "    data = vcat([[x fill(i, length(x))] for (i,x) in\n",
    "        enumerate(allData)]...)\n",
    "    df = DataFrame(data, [:Diameter, :MachNo])\n",
    "    # @show df\n",
    "    @rput df\n",
    "\n",
    "    R\"\"\"\n",
    "    df$MachNo <- as.factor(df$MachNo)\n",
    "    anova <- summary(aov(Diameter ~ MachNo, data=df))\n",
    "    fVal <- anova[[1]][\"F value\"][[1]][1]\n",
    "    pVal <- anova[[1]][\"Pr(>F)\"][[1]][1]\n",
    "    \"\"\"\n",
    "    println(\"R ANOVA f-value: \", @rget fVal)\n",
    "    println(\"R ANOVA p-value: \", @rget pVal)\n",
    "end\n",
    "\n",
    "R_ANOVA([data1, data2, data3])"
   ]
  },
  {
   "cell_type": "markdown",
   "metadata": {},
   "source": [
    "## Using and Calling Python Packages"
   ]
  },
  {
   "cell_type": "code",
   "execution_count": 22,
   "metadata": {},
   "outputs": [
    {
     "data": {
      "text/plain": [
       "3-element Vector{Tuple{Float64, Float64}}:\n",
       " (0.625, 0.6361111111111111)\n",
       " (-0.0375, 0.22053571428571428)\n",
       " (-0.45999999999999996, 0.29333333333333333)"
      ]
     },
     "execution_count": 22,
     "metadata": {},
     "output_type": "execute_result"
    }
   ],
   "source": [
    "using PyCall\n",
    "TB = pyimport(\"textblob\")\n",
    "\n",
    "str = \n",
    "\"\"\"Some people think that Star Wars The Last Jedi is an excellent movie,\n",
    "6 with perfect, flawless storytelling and impeccable acting. Others\n",
    "7 think that it was an average movie, with a simple storyline and basic\n",
    "8 acting. However, the reality is almost everyone felt anger and\n",
    "9 disappointment with its forced acting and bad storytelling.\"\"\"\n",
    "\n",
    "blob = TB.TextBlob(str)\n",
    "\n",
    "[ i.sentiment for i in blob.sentences]"
   ]
  }
 ],
 "metadata": {
  "kernelspec": {
   "display_name": "Julia 1.6.3",
   "language": "julia",
   "name": "julia-1.6"
  },
  "language_info": {
   "file_extension": ".jl",
   "mimetype": "application/julia",
   "name": "julia",
   "version": "1.6.3"
  },
  "orig_nbformat": 4
 },
 "nbformat": 4,
 "nbformat_minor": 2
}
