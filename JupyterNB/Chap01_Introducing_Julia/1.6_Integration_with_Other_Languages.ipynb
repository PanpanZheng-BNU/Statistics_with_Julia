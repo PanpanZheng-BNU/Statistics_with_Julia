{
 "cells": [
  {
   "cell_type": "markdown",
   "metadata": {},
   "source": [
    "# Integration with Other Languages\n",
    "## Using and Calling R Packages"
   ]
  },
  {
   "cell_type": "code",
   "execution_count": 15,
   "metadata": {},
   "outputs": [
    {
     "name": "stdout",
     "output_type": "stream",
     "text": [
      "df = 56×2 DataFrame\n",
      " Row │ Diameter  MachNo\n",
      "     │ Float64   Float64\n",
      "─────┼───────────────────\n",
      "   1 │  53.3567      1.0\n",
      "   2 │  53.4589      1.0\n",
      "   3 │  52.2828      1.0\n",
      "   4 │  52.9875      1.0\n",
      "   5 │  51.9932      1.0\n",
      "   6 │  53.3733      1.0\n",
      "   7 │  55.7541      1.0\n",
      "   8 │  50.2795      1.0\n",
      "   9 │  53.636       1.0\n",
      "  10 │  53.5177      1.0\n",
      "  11 │  53.7004      1.0\n",
      "  12 │  54.1559      1.0\n",
      "  13 │  53.5505      1.0\n",
      "  14 │  52.3732      1.0\n",
      "  15 │  53.4901      1.0\n",
      "  16 │  52.9395      1.0\n",
      "  17 │  52.1676      1.0\n",
      "  18 │  50.8714      1.0\n",
      "  19 │  53.1449      1.0\n",
      "  20 │  52.0908      1.0\n",
      "  21 │  48.2324      2.0\n",
      "  22 │  52.2735      2.0\n",
      "  23 │  52.0721      2.0\n",
      "  24 │  51.8814      2.0\n",
      "  25 │  50.8986      2.0\n",
      "  26 │  53.1391      2.0\n",
      "  27 │  50.883       2.0\n",
      "  28 │  49.8073      2.0\n",
      "  29 │  49.0479      2.0\n",
      "  30 │  50.9149      2.0\n",
      "  31 │  50.7358      2.0\n",
      "  32 │  47.6154      2.0\n",
      "  33 │  50.8932      2.0\n",
      "  34 │  52.9559      2.0\n",
      "  35 │  51.9083      2.0\n",
      "  36 │  52.2216      2.0\n",
      "  37 │  51.6058      2.0\n",
      "  38 │  49.967       2.0\n",
      "  39 │  48.2324      3.0\n",
      "  40 │  52.4195      3.0\n",
      "  41 │  52.6532      3.0\n",
      "  42 │  51.9453      3.0\n",
      "  43 │  51.8252      3.0\n",
      "  44 │  53.8962      3.0\n",
      "  45 │  51.6622      3.0\n",
      "  46 │  50.484       3.0\n",
      "  47 │  49.9292      3.0\n",
      "  48 │  51.3627      3.0\n",
      "  49 │  51.4996      3.0\n",
      "  50 │  48.4493      3.0\n",
      "  51 │  51.3026      3.0\n",
      "  52 │  53.793       3.0\n",
      "  53 │  52.1459      3.0\n",
      "  54 │  52.3046      3.0\n",
      "  55 │  51.7094      3.0\n",
      "  56 │  50.1926      3.0\n",
      "R ANOVA f-value: 10.516968568709087\n",
      "R ANOVA p-value: 0.00014236168817139574\n"
     ]
    }
   ],
   "source": [
    "using CSV, DataFrames, RCall\n",
    "\n",
    "data1 = CSV.read(\"../data/machine1.csv\",DataFrame,header=false)[:,1];\n",
    "data2 = CSV.read(\"../data/machine2.csv\",DataFrame,header=false)[:,1];\n",
    "data3 = CSV.read(\"../data/machine3.csv\",DataFrame,header=false)[:,1];\n",
    "\n",
    "function R_ANOVA(allData)\n",
    "    data = vcat([[x fill(i, length(x))] for (i,x) in\n",
    "        enumerate(allData)]...)\n",
    "    df = DataFrame(data, [:Diameter, :MachNo])\n",
    "    @show df\n",
    "    @rput df\n",
    "\n",
    "    R\"\"\"\n",
    "    df$MachNo <- as.factor(df$MachNo)\n",
    "    anova <- summary(aov(Diameter ~ MachNo, data=df))\n",
    "    fVal <- anova[[1]][\"F value\"][[1]][1]\n",
    "    pVal <- anova[[1]][\"Pr(>F)\"][[1]][1]\n",
    "    \"\"\"\n",
    "    println(\"R ANOVA f-value: \", @rget fVal)\n",
    "    println(\"R ANOVA p-value: \", @rget pVal)\n",
    "end\n",
    "\n",
    "R_ANOVA([data1, data2, data3])"
   ]
  },
  {
   "cell_type": "code",
   "execution_count": 13,
   "metadata": {},
   "outputs": [
    {
     "ename": "LoadError",
     "evalue": "UndefVarError: df not defined",
     "output_type": "error",
     "traceback": [
      "UndefVarError: df not defined",
      "",
      "Stacktrace:",
      " [1] top-level scope",
      "   @ :0",
      " [2] eval",
      "   @ ./boot.jl:360 [inlined]",
      " [3] include_string(mapexpr::typeof(REPL.softscope), mod::Module, code::String, filename::String)",
      "   @ Base ./loading.jl:1116"
     ]
    }
   ],
   "source": [
    "df"
   ]
  }
 ],
 "metadata": {
  "kernelspec": {
   "display_name": "Julia 1.6.3",
   "language": "julia",
   "name": "julia-1.6"
  },
  "language_info": {
   "file_extension": ".jl",
   "mimetype": "application/julia",
   "name": "julia",
   "version": "1.6.3"
  },
  "orig_nbformat": 4
 },
 "nbformat": 4,
 "nbformat_minor": 2
}
