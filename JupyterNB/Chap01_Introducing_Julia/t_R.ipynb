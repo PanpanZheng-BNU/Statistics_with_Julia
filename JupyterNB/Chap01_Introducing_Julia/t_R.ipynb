{
 "cells": [
  {
   "cell_type": "code",
   "execution_count": 28,
   "metadata": {},
   "outputs": [],
   "source": [
    "data1 <- read.csv(\"../data/machine1.csv\",header=FALSE)\n",
    "data2 <- read.csv(\"../data/machine2.csv\",header=FALSE)\n",
    "data3 <- read.csv(\"../data/machine3.csv\",header=FALSE)\n",
    "\n",
    "category1 <- c()\n",
    "category2 <- c()\n",
    "category3 <- c()\n",
    "for(i in 1:lengths(data1)){\n",
    "    category1 <- append(category1, 1)\n",
    "}\n",
    "for(i in 1:lengths(data2)){\n",
    "    category2 <- append(category2, 2)\n",
    "}\n",
    "for(i in 1:lengths(data3)){\n",
    "    category3 <- append(category3, 3)\n",
    "}\n",
    "\n",
    "df1 = data.frame(data1, category1)\n",
    "names(df1) = c(\"Diameter\", \"MachNo\")\n",
    "df2 = data.frame(data2, category2)\n",
    "names(df2) = c(\"Diameter\", \"MachNo\")\n",
    "df3 = data.frame(data3, category3)\n",
    "names(df3) = c(\"Diameter\", \"MachNo\")\n",
    "\n",
    "df = rbind(df1,df2,df3)"
   ]
  },
  {
   "cell_type": "code",
   "execution_count": 36,
   "metadata": {},
   "outputs": [
    {
     "name": "stdout",
     "output_type": "stream",
     "text": [
      "            Df Sum Sq Mean Sq F value   Pr(>F)    \n",
      "MachNo       2  42.21  21.106   10.52 0.000142 ***\n",
      "Residuals   53 106.36   2.007                     \n",
      "---\n",
      "Signif. codes:  0 ‘***’ 0.001 ‘**’ 0.01 ‘*’ 0.05 ‘.’ 0.1 ‘ ’ 1\n"
     ]
    }
   ],
   "source": [
    "df$MachNo <- as.factor(df$MachNo)\n",
    "anova <- summary(aov( Diameter ~ MachNo, data=df))\n",
    "\n",
    "print(anova)"
   ]
  }
 ],
 "metadata": {
  "kernelspec": {
   "display_name": "R",
   "language": "R",
   "name": "ir"
  },
  "language_info": {
   "codemirror_mode": "r",
   "file_extension": ".r",
   "mimetype": "text/x-r-source",
   "name": "R",
   "pygments_lexer": "r",
   "version": "4.1.2"
  },
  "orig_nbformat": 4
 },
 "nbformat": 4,
 "nbformat_minor": 2
}
