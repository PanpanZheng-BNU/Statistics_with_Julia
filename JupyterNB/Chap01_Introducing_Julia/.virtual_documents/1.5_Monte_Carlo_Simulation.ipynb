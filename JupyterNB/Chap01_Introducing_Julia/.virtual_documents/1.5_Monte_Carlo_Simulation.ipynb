using Random

Random.seed!(1974)
println("Seed 1974: ", rand(), "\t", rand(), "\t", rand())
Random.seed!(1975)
println("Seed 1975: ", rand(), "\t", rand(), "\t", rand())
Random.seed!(1974)
println("Seed 1974: ", rand(), "\t", rand(), "\t", rand())


using Plots, Random
totalNumberOfPoints=10^5
Random.seed!(1);
points = [eachcol(rand(2,totalNumberOfPoints))...];
inPoints = findall(x -> x[1]^2 + x[2]^2 <= 1,points)
println("the approximated value of pi is ", 4*length(inPoints)/totalNumberOfPoints)
scatter(first.(points[inPoints]),last.(points[inPoints]),ms=1,msw=0, size=(400,400));
outPoints = findall(x -> x[1]^2 + x[2]^2 > 1,points)
scatter!(first.(points[outPoints]),last.(points[outPoints]),ms=1, msw=0, size=(400,400), legend=:none)


using Random, LinearAlgebra, Plots
Random.seed!()

N = 10^5
data = [[rand(),rand()] for _ in 1:N]
indata = filter((x) -> (norm(x) <= 1), data)
outdata = filter((x) -> (norm(x) > 1), data)



scatter(first.(indata), last.(indata), c=:blue, ms=1, msw=0)
scatter!(first.(outdata), last.(outdata), c=:red, ms=1, msw=0,
    xlims=(0,1), ylims=(0,1), legend=:none, ratio=:equal)
